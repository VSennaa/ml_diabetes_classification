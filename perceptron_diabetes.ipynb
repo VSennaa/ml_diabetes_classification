{
  "nbformat": 4,
  "nbformat_minor": 0,
  "metadata": {
    "colab": {
      "provenance": [],
      "authorship_tag": "ABX9TyMRifKjyCbLAwrp0ISRydbs",
      "include_colab_link": true
    },
    "kernelspec": {
      "name": "python3",
      "display_name": "Python 3"
    },
    "language_info": {
      "name": "python"
    }
  },
  "cells": [
    {
      "cell_type": "markdown",
      "metadata": {
        "id": "view-in-github",
        "colab_type": "text"
      },
      "source": [
        "<a href=\"https://colab.research.google.com/github/VSennaa/ml_diabetes_classification/blob/main/perceptron_diabetes.ipynb\" target=\"_parent\"><img src=\"https://colab.research.google.com/assets/colab-badge.svg\" alt=\"Open In Colab\"/></a>"
      ]
    },
    {
      "cell_type": "markdown",
      "source": [
        "# Notebook Artigo Classificação de Diabétes com Perceptron\n",
        "Colaboradores:\n",
        "<p>Lucas Nunes Assumpção\n",
        "<p>Pedro Henrique Araújo\n",
        "<p>Victor Diniz Pessoa\n",
        "<p>Vinicios Rodrigo Sena Martins"
      ],
      "metadata": {
        "id": "4yz2Z-nA6hec"
      }
    },
    {
      "cell_type": "markdown",
      "source": [
        "# O que é Perceptron\n",
        "<p> Trata-se de um classificador linear binário, ou seja, um algoritmo capaz de discriminar duas classes através do plano cartesiano, neste caso, entre diabéticos e não diabéticos. Sua implementação consta na função treinar_perceptron."
      ],
      "metadata": {
        "id": "TmbngPg4SICj"
      }
    },
    {
      "cell_type": "markdown",
      "source": [
        "# Conjunto de Dados (dataset)\n",
        "<p>Nosso dataset foi obtido na plataforma kaggle e possui seu resumo abaixo:"
      ],
      "metadata": {
        "id": "vwKcVDNNSiP2"
      }
    },
    {
      "cell_type": "code",
      "source": [
        "import pandas as pd\n",
        "import numpy as np\n",
        "import matplotlib.pyplot as plt\n",
        "import seaborn as sns\n",
        "from sklearn.utils import resample\n",
        "from sklearn.model_selection import train_test_split\n",
        "from sklearn.metrics import classification_report, accuracy_score, precision_score, recall_score\n",
        "from sklearn.metrics import confusion_matrix\n",
        "from sklearn.metrics import ConfusionMatrixDisplay"
      ],
      "metadata": {
        "id": "gi_3IspNft_p"
      },
      "execution_count": 179,
      "outputs": []
    },
    {
      "cell_type": "code",
      "source": [
        "# Carregametno do dataset\n",
        "url = 'https://raw.githubusercontent.com/VSennaa/ml_diabetes_classification/refs/heads/main/Dataset_of_Diabetes.csv'\n",
        "df_raw = pd.read_csv(url)\n",
        "\n",
        "df = df_raw.copy()\n",
        "\n",
        "# Limpa espaços e remove entradas inválidas\n",
        "df[\"CLASS\"] = df[\"CLASS\"].astype(str).str.strip() #removendo os espaços pra padronizar e evitar NaN, existem alguns Y e N com espaço na string\n",
        "df_cleaned = df.dropna(subset=[\"HbA1c\", \"BMI\", \"TG\", \"AGE\", \"CLASS\"])\n",
        "#[\"HbA1c\", \"BMI\", \"TG\", \"AGE\"]\n",
        "df_cleaned = df_cleaned[df_cleaned[\"CLASS\"].isin([\"N\", \"Y\"])].copy()\n",
        "\n",
        "# Agora está tudo limpo\n",
        "x = df_cleaned.drop(\"CLASS\", axis=1)\n",
        "y = df_cleaned[\"CLASS\"].map({\"N\": 0, \"Y\": 1})\n",
        "\n",
        "\n",
        "x.head()"
      ],
      "metadata": {
        "colab": {
          "base_uri": "https://localhost:8080/",
          "height": 206
        },
        "id": "s6ODTxwfScUP",
        "outputId": "30b95aef-1759-45a5-e422-9ae204681dfd"
      },
      "execution_count": 180,
      "outputs": [
        {
          "output_type": "execute_result",
          "data": {
            "text/plain": [
              "    ID  No_Pation Gender  AGE  Urea  Cr  HbA1c  Chol   TG  HDL  LDL  VLDL  \\\n",
              "0  502      17975      F   50   4.7  46    4.9   4.2  0.9  2.4  1.4   0.5   \n",
              "1  735      34221      M   26   4.5  62    4.9   3.7  1.4  1.1  2.1   0.6   \n",
              "2  420      47975      F   50   4.7  46    4.9   4.2  0.9  2.4  1.4   0.5   \n",
              "3  680      87656      F   50   4.7  46    4.9   4.2  0.9  2.4  1.4   0.5   \n",
              "4  504      34223      M   33   7.1  46    4.9   4.9  1.0  0.8  2.0   0.4   \n",
              "\n",
              "    BMI  \n",
              "0  24.0  \n",
              "1  23.0  \n",
              "2  24.0  \n",
              "3  24.0  \n",
              "4  21.0  "
            ],
            "text/html": [
              "\n",
              "  <div id=\"df-b21fff09-ac81-47c7-82f8-dffe5b52a466\" class=\"colab-df-container\">\n",
              "    <div>\n",
              "<style scoped>\n",
              "    .dataframe tbody tr th:only-of-type {\n",
              "        vertical-align: middle;\n",
              "    }\n",
              "\n",
              "    .dataframe tbody tr th {\n",
              "        vertical-align: top;\n",
              "    }\n",
              "\n",
              "    .dataframe thead th {\n",
              "        text-align: right;\n",
              "    }\n",
              "</style>\n",
              "<table border=\"1\" class=\"dataframe\">\n",
              "  <thead>\n",
              "    <tr style=\"text-align: right;\">\n",
              "      <th></th>\n",
              "      <th>ID</th>\n",
              "      <th>No_Pation</th>\n",
              "      <th>Gender</th>\n",
              "      <th>AGE</th>\n",
              "      <th>Urea</th>\n",
              "      <th>Cr</th>\n",
              "      <th>HbA1c</th>\n",
              "      <th>Chol</th>\n",
              "      <th>TG</th>\n",
              "      <th>HDL</th>\n",
              "      <th>LDL</th>\n",
              "      <th>VLDL</th>\n",
              "      <th>BMI</th>\n",
              "    </tr>\n",
              "  </thead>\n",
              "  <tbody>\n",
              "    <tr>\n",
              "      <th>0</th>\n",
              "      <td>502</td>\n",
              "      <td>17975</td>\n",
              "      <td>F</td>\n",
              "      <td>50</td>\n",
              "      <td>4.7</td>\n",
              "      <td>46</td>\n",
              "      <td>4.9</td>\n",
              "      <td>4.2</td>\n",
              "      <td>0.9</td>\n",
              "      <td>2.4</td>\n",
              "      <td>1.4</td>\n",
              "      <td>0.5</td>\n",
              "      <td>24.0</td>\n",
              "    </tr>\n",
              "    <tr>\n",
              "      <th>1</th>\n",
              "      <td>735</td>\n",
              "      <td>34221</td>\n",
              "      <td>M</td>\n",
              "      <td>26</td>\n",
              "      <td>4.5</td>\n",
              "      <td>62</td>\n",
              "      <td>4.9</td>\n",
              "      <td>3.7</td>\n",
              "      <td>1.4</td>\n",
              "      <td>1.1</td>\n",
              "      <td>2.1</td>\n",
              "      <td>0.6</td>\n",
              "      <td>23.0</td>\n",
              "    </tr>\n",
              "    <tr>\n",
              "      <th>2</th>\n",
              "      <td>420</td>\n",
              "      <td>47975</td>\n",
              "      <td>F</td>\n",
              "      <td>50</td>\n",
              "      <td>4.7</td>\n",
              "      <td>46</td>\n",
              "      <td>4.9</td>\n",
              "      <td>4.2</td>\n",
              "      <td>0.9</td>\n",
              "      <td>2.4</td>\n",
              "      <td>1.4</td>\n",
              "      <td>0.5</td>\n",
              "      <td>24.0</td>\n",
              "    </tr>\n",
              "    <tr>\n",
              "      <th>3</th>\n",
              "      <td>680</td>\n",
              "      <td>87656</td>\n",
              "      <td>F</td>\n",
              "      <td>50</td>\n",
              "      <td>4.7</td>\n",
              "      <td>46</td>\n",
              "      <td>4.9</td>\n",
              "      <td>4.2</td>\n",
              "      <td>0.9</td>\n",
              "      <td>2.4</td>\n",
              "      <td>1.4</td>\n",
              "      <td>0.5</td>\n",
              "      <td>24.0</td>\n",
              "    </tr>\n",
              "    <tr>\n",
              "      <th>4</th>\n",
              "      <td>504</td>\n",
              "      <td>34223</td>\n",
              "      <td>M</td>\n",
              "      <td>33</td>\n",
              "      <td>7.1</td>\n",
              "      <td>46</td>\n",
              "      <td>4.9</td>\n",
              "      <td>4.9</td>\n",
              "      <td>1.0</td>\n",
              "      <td>0.8</td>\n",
              "      <td>2.0</td>\n",
              "      <td>0.4</td>\n",
              "      <td>21.0</td>\n",
              "    </tr>\n",
              "  </tbody>\n",
              "</table>\n",
              "</div>\n",
              "    <div class=\"colab-df-buttons\">\n",
              "\n",
              "  <div class=\"colab-df-container\">\n",
              "    <button class=\"colab-df-convert\" onclick=\"convertToInteractive('df-b21fff09-ac81-47c7-82f8-dffe5b52a466')\"\n",
              "            title=\"Convert this dataframe to an interactive table.\"\n",
              "            style=\"display:none;\">\n",
              "\n",
              "  <svg xmlns=\"http://www.w3.org/2000/svg\" height=\"24px\" viewBox=\"0 -960 960 960\">\n",
              "    <path d=\"M120-120v-720h720v720H120Zm60-500h600v-160H180v160Zm220 220h160v-160H400v160Zm0 220h160v-160H400v160ZM180-400h160v-160H180v160Zm440 0h160v-160H620v160ZM180-180h160v-160H180v160Zm440 0h160v-160H620v160Z\"/>\n",
              "  </svg>\n",
              "    </button>\n",
              "\n",
              "  <style>\n",
              "    .colab-df-container {\n",
              "      display:flex;\n",
              "      gap: 12px;\n",
              "    }\n",
              "\n",
              "    .colab-df-convert {\n",
              "      background-color: #E8F0FE;\n",
              "      border: none;\n",
              "      border-radius: 50%;\n",
              "      cursor: pointer;\n",
              "      display: none;\n",
              "      fill: #1967D2;\n",
              "      height: 32px;\n",
              "      padding: 0 0 0 0;\n",
              "      width: 32px;\n",
              "    }\n",
              "\n",
              "    .colab-df-convert:hover {\n",
              "      background-color: #E2EBFA;\n",
              "      box-shadow: 0px 1px 2px rgba(60, 64, 67, 0.3), 0px 1px 3px 1px rgba(60, 64, 67, 0.15);\n",
              "      fill: #174EA6;\n",
              "    }\n",
              "\n",
              "    .colab-df-buttons div {\n",
              "      margin-bottom: 4px;\n",
              "    }\n",
              "\n",
              "    [theme=dark] .colab-df-convert {\n",
              "      background-color: #3B4455;\n",
              "      fill: #D2E3FC;\n",
              "    }\n",
              "\n",
              "    [theme=dark] .colab-df-convert:hover {\n",
              "      background-color: #434B5C;\n",
              "      box-shadow: 0px 1px 3px 1px rgba(0, 0, 0, 0.15);\n",
              "      filter: drop-shadow(0px 1px 2px rgba(0, 0, 0, 0.3));\n",
              "      fill: #FFFFFF;\n",
              "    }\n",
              "  </style>\n",
              "\n",
              "    <script>\n",
              "      const buttonEl =\n",
              "        document.querySelector('#df-b21fff09-ac81-47c7-82f8-dffe5b52a466 button.colab-df-convert');\n",
              "      buttonEl.style.display =\n",
              "        google.colab.kernel.accessAllowed ? 'block' : 'none';\n",
              "\n",
              "      async function convertToInteractive(key) {\n",
              "        const element = document.querySelector('#df-b21fff09-ac81-47c7-82f8-dffe5b52a466');\n",
              "        const dataTable =\n",
              "          await google.colab.kernel.invokeFunction('convertToInteractive',\n",
              "                                                    [key], {});\n",
              "        if (!dataTable) return;\n",
              "\n",
              "        const docLinkHtml = 'Like what you see? Visit the ' +\n",
              "          '<a target=\"_blank\" href=https://colab.research.google.com/notebooks/data_table.ipynb>data table notebook</a>'\n",
              "          + ' to learn more about interactive tables.';\n",
              "        element.innerHTML = '';\n",
              "        dataTable['output_type'] = 'display_data';\n",
              "        await google.colab.output.renderOutput(dataTable, element);\n",
              "        const docLink = document.createElement('div');\n",
              "        docLink.innerHTML = docLinkHtml;\n",
              "        element.appendChild(docLink);\n",
              "      }\n",
              "    </script>\n",
              "  </div>\n",
              "\n",
              "\n",
              "    <div id=\"df-6277371f-7583-44c9-ad4f-f3daff9b8305\">\n",
              "      <button class=\"colab-df-quickchart\" onclick=\"quickchart('df-6277371f-7583-44c9-ad4f-f3daff9b8305')\"\n",
              "                title=\"Suggest charts\"\n",
              "                style=\"display:none;\">\n",
              "\n",
              "<svg xmlns=\"http://www.w3.org/2000/svg\" height=\"24px\"viewBox=\"0 0 24 24\"\n",
              "     width=\"24px\">\n",
              "    <g>\n",
              "        <path d=\"M19 3H5c-1.1 0-2 .9-2 2v14c0 1.1.9 2 2 2h14c1.1 0 2-.9 2-2V5c0-1.1-.9-2-2-2zM9 17H7v-7h2v7zm4 0h-2V7h2v10zm4 0h-2v-4h2v4z\"/>\n",
              "    </g>\n",
              "</svg>\n",
              "      </button>\n",
              "\n",
              "<style>\n",
              "  .colab-df-quickchart {\n",
              "      --bg-color: #E8F0FE;\n",
              "      --fill-color: #1967D2;\n",
              "      --hover-bg-color: #E2EBFA;\n",
              "      --hover-fill-color: #174EA6;\n",
              "      --disabled-fill-color: #AAA;\n",
              "      --disabled-bg-color: #DDD;\n",
              "  }\n",
              "\n",
              "  [theme=dark] .colab-df-quickchart {\n",
              "      --bg-color: #3B4455;\n",
              "      --fill-color: #D2E3FC;\n",
              "      --hover-bg-color: #434B5C;\n",
              "      --hover-fill-color: #FFFFFF;\n",
              "      --disabled-bg-color: #3B4455;\n",
              "      --disabled-fill-color: #666;\n",
              "  }\n",
              "\n",
              "  .colab-df-quickchart {\n",
              "    background-color: var(--bg-color);\n",
              "    border: none;\n",
              "    border-radius: 50%;\n",
              "    cursor: pointer;\n",
              "    display: none;\n",
              "    fill: var(--fill-color);\n",
              "    height: 32px;\n",
              "    padding: 0;\n",
              "    width: 32px;\n",
              "  }\n",
              "\n",
              "  .colab-df-quickchart:hover {\n",
              "    background-color: var(--hover-bg-color);\n",
              "    box-shadow: 0 1px 2px rgba(60, 64, 67, 0.3), 0 1px 3px 1px rgba(60, 64, 67, 0.15);\n",
              "    fill: var(--button-hover-fill-color);\n",
              "  }\n",
              "\n",
              "  .colab-df-quickchart-complete:disabled,\n",
              "  .colab-df-quickchart-complete:disabled:hover {\n",
              "    background-color: var(--disabled-bg-color);\n",
              "    fill: var(--disabled-fill-color);\n",
              "    box-shadow: none;\n",
              "  }\n",
              "\n",
              "  .colab-df-spinner {\n",
              "    border: 2px solid var(--fill-color);\n",
              "    border-color: transparent;\n",
              "    border-bottom-color: var(--fill-color);\n",
              "    animation:\n",
              "      spin 1s steps(1) infinite;\n",
              "  }\n",
              "\n",
              "  @keyframes spin {\n",
              "    0% {\n",
              "      border-color: transparent;\n",
              "      border-bottom-color: var(--fill-color);\n",
              "      border-left-color: var(--fill-color);\n",
              "    }\n",
              "    20% {\n",
              "      border-color: transparent;\n",
              "      border-left-color: var(--fill-color);\n",
              "      border-top-color: var(--fill-color);\n",
              "    }\n",
              "    30% {\n",
              "      border-color: transparent;\n",
              "      border-left-color: var(--fill-color);\n",
              "      border-top-color: var(--fill-color);\n",
              "      border-right-color: var(--fill-color);\n",
              "    }\n",
              "    40% {\n",
              "      border-color: transparent;\n",
              "      border-right-color: var(--fill-color);\n",
              "      border-top-color: var(--fill-color);\n",
              "    }\n",
              "    60% {\n",
              "      border-color: transparent;\n",
              "      border-right-color: var(--fill-color);\n",
              "    }\n",
              "    80% {\n",
              "      border-color: transparent;\n",
              "      border-right-color: var(--fill-color);\n",
              "      border-bottom-color: var(--fill-color);\n",
              "    }\n",
              "    90% {\n",
              "      border-color: transparent;\n",
              "      border-bottom-color: var(--fill-color);\n",
              "    }\n",
              "  }\n",
              "</style>\n",
              "\n",
              "      <script>\n",
              "        async function quickchart(key) {\n",
              "          const quickchartButtonEl =\n",
              "            document.querySelector('#' + key + ' button');\n",
              "          quickchartButtonEl.disabled = true;  // To prevent multiple clicks.\n",
              "          quickchartButtonEl.classList.add('colab-df-spinner');\n",
              "          try {\n",
              "            const charts = await google.colab.kernel.invokeFunction(\n",
              "                'suggestCharts', [key], {});\n",
              "          } catch (error) {\n",
              "            console.error('Error during call to suggestCharts:', error);\n",
              "          }\n",
              "          quickchartButtonEl.classList.remove('colab-df-spinner');\n",
              "          quickchartButtonEl.classList.add('colab-df-quickchart-complete');\n",
              "        }\n",
              "        (() => {\n",
              "          let quickchartButtonEl =\n",
              "            document.querySelector('#df-6277371f-7583-44c9-ad4f-f3daff9b8305 button');\n",
              "          quickchartButtonEl.style.display =\n",
              "            google.colab.kernel.accessAllowed ? 'block' : 'none';\n",
              "        })();\n",
              "      </script>\n",
              "    </div>\n",
              "\n",
              "    </div>\n",
              "  </div>\n"
            ],
            "application/vnd.google.colaboratory.intrinsic+json": {
              "type": "dataframe",
              "variable_name": "x",
              "summary": "{\n  \"name\": \"x\",\n  \"rows\": 947,\n  \"fields\": [\n    {\n      \"column\": \"ID\",\n      \"properties\": {\n        \"dtype\": \"number\",\n        \"std\": 238,\n        \"min\": 1,\n        \"max\": 800,\n        \"num_unique_values\": 765,\n        \"samples\": [\n          601,\n          311,\n          491\n        ],\n        \"semantic_type\": \"\",\n        \"description\": \"\"\n      }\n    },\n    {\n      \"column\": \"No_Pation\",\n      \"properties\": {\n        \"dtype\": \"number\",\n        \"std\": 3473736,\n        \"min\": 123,\n        \"max\": 75435657,\n        \"num_unique_values\": 908,\n        \"samples\": [\n          7565435,\n          23980,\n          24114\n        ],\n        \"semantic_type\": \"\",\n        \"description\": \"\"\n      }\n    },\n    {\n      \"column\": \"Gender\",\n      \"properties\": {\n        \"dtype\": \"category\",\n        \"num_unique_values\": 3,\n        \"samples\": [\n          \"F\",\n          \"M\",\n          \"f\"\n        ],\n        \"semantic_type\": \"\",\n        \"description\": \"\"\n      }\n    },\n    {\n      \"column\": \"AGE\",\n      \"properties\": {\n        \"dtype\": \"number\",\n        \"std\": 8,\n        \"min\": 20,\n        \"max\": 79,\n        \"num_unique_values\": 50,\n        \"samples\": [\n          44,\n          68,\n          56\n        ],\n        \"semantic_type\": \"\",\n        \"description\": \"\"\n      }\n    },\n    {\n      \"column\": \"Urea\",\n      \"properties\": {\n        \"dtype\": \"number\",\n        \"std\": 2.975024369084152,\n        \"min\": 0.5,\n        \"max\": 38.9,\n        \"num_unique_values\": 109,\n        \"samples\": [\n          1.9,\n          4.6,\n          2.0\n        ],\n        \"semantic_type\": \"\",\n        \"description\": \"\"\n      }\n    },\n    {\n      \"column\": \"Cr\",\n      \"properties\": {\n        \"dtype\": \"number\",\n        \"std\": 60,\n        \"min\": 6,\n        \"max\": 800,\n        \"num_unique_values\": 112,\n        \"samples\": [\n          97,\n          25,\n          47\n        ],\n        \"semantic_type\": \"\",\n        \"description\": \"\"\n      }\n    },\n    {\n      \"column\": \"HbA1c\",\n      \"properties\": {\n        \"dtype\": \"number\",\n        \"std\": 2.5440398546581786,\n        \"min\": 0.9,\n        \"max\": 16.0,\n        \"num_unique_values\": 111,\n        \"samples\": [\n          6.3,\n          4.3,\n          5.1\n        ],\n        \"semantic_type\": \"\",\n        \"description\": \"\"\n      }\n    },\n    {\n      \"column\": \"Chol\",\n      \"properties\": {\n        \"dtype\": \"number\",\n        \"std\": 1.313355681543849,\n        \"min\": 0.0,\n        \"max\": 10.3,\n        \"num_unique_values\": 77,\n        \"samples\": [\n          3.6,\n          5.9,\n          0.5\n        ],\n        \"semantic_type\": \"\",\n        \"description\": \"\"\n      }\n    },\n    {\n      \"column\": \"TG\",\n      \"properties\": {\n        \"dtype\": \"number\",\n        \"std\": 1.4172748462146312,\n        \"min\": 0.3,\n        \"max\": 13.8,\n        \"num_unique_values\": 69,\n        \"samples\": [\n          2.7,\n          0.9,\n          4.9\n        ],\n        \"semantic_type\": \"\",\n        \"description\": \"\"\n      }\n    },\n    {\n      \"column\": \"HDL\",\n      \"properties\": {\n        \"dtype\": \"number\",\n        \"std\": 0.6724233577358292,\n        \"min\": 0.2,\n        \"max\": 9.9,\n        \"num_unique_values\": 47,\n        \"samples\": [\n          6.3,\n          0.2,\n          1.08\n        ],\n        \"semantic_type\": \"\",\n        \"description\": \"\"\n      }\n    },\n    {\n      \"column\": \"LDL\",\n      \"properties\": {\n        \"dtype\": \"number\",\n        \"std\": 1.1273155940731643,\n        \"min\": 0.3,\n        \"max\": 9.9,\n        \"num_unique_values\": 65,\n        \"samples\": [\n          7.5,\n          5.1,\n          1.4\n        ],\n        \"semantic_type\": \"\",\n        \"description\": \"\"\n      }\n    },\n    {\n      \"column\": \"VLDL\",\n      \"properties\": {\n        \"dtype\": \"number\",\n        \"std\": 3.757011556497154,\n        \"min\": 0.1,\n        \"max\": 35.0,\n        \"num_unique_values\": 60,\n        \"samples\": [\n          0.5,\n          0.8,\n          22.7\n        ],\n        \"semantic_type\": \"\",\n        \"description\": \"\"\n      }\n    },\n    {\n      \"column\": \"BMI\",\n      \"properties\": {\n        \"dtype\": \"number\",\n        \"std\": 4.869852279913663,\n        \"min\": 19.0,\n        \"max\": 47.75,\n        \"num_unique_values\": 63,\n        \"samples\": [\n          32.65,\n          37.62,\n          24.0\n        ],\n        \"semantic_type\": \"\",\n        \"description\": \"\"\n      }\n    }\n  ]\n}"
            }
          },
          "metadata": {},
          "execution_count": 180
        }
      ]
    },
    {
      "cell_type": "code",
      "source": [
        "print(y.isnull().sum())  # Número total de NaNs\n",
        "print(y.isna().sum())  # Número total de NaNs\n",
        "print(y.value_counts(dropna=False))"
      ],
      "metadata": {
        "colab": {
          "base_uri": "https://localhost:8080/"
        },
        "id": "gnclHiQ06-VR",
        "outputId": "e9cc0020-fe54-4076-addb-7b2e57fdc738"
      },
      "execution_count": 181,
      "outputs": [
        {
          "output_type": "stream",
          "name": "stdout",
          "text": [
            "0\n",
            "0\n",
            "CLASS\n",
            "1    844\n",
            "0    103\n",
            "Name: count, dtype: int64\n"
          ]
        }
      ]
    },
    {
      "cell_type": "markdown",
      "source": [
        "###Análise Exploratória\n",
        "<p>Verificar se há dados faltantes e registrar os dados relevantes para classificação"
      ],
      "metadata": {
        "id": "4ZNTWHqwUu9F"
      }
    },
    {
      "source": [
        "print(\"Dados faltantes por coluna:\")\n",
        "x.info()"
      ],
      "cell_type": "code",
      "metadata": {
        "colab": {
          "base_uri": "https://localhost:8080/"
        },
        "id": "TazdyqNNOXoo",
        "outputId": "0bb51115-24a3-4eea-d9cb-d5ea7d0022b7"
      },
      "execution_count": 182,
      "outputs": [
        {
          "output_type": "stream",
          "name": "stdout",
          "text": [
            "Dados faltantes por coluna:\n",
            "<class 'pandas.core.frame.DataFrame'>\n",
            "Index: 947 entries, 0 to 999\n",
            "Data columns (total 13 columns):\n",
            " #   Column     Non-Null Count  Dtype  \n",
            "---  ------     --------------  -----  \n",
            " 0   ID         947 non-null    int64  \n",
            " 1   No_Pation  947 non-null    int64  \n",
            " 2   Gender     947 non-null    object \n",
            " 3   AGE        947 non-null    int64  \n",
            " 4   Urea       947 non-null    float64\n",
            " 5   Cr         947 non-null    int64  \n",
            " 6   HbA1c      947 non-null    float64\n",
            " 7   Chol       947 non-null    float64\n",
            " 8   TG         947 non-null    float64\n",
            " 9   HDL        947 non-null    float64\n",
            " 10  LDL        947 non-null    float64\n",
            " 11  VLDL       947 non-null    float64\n",
            " 12  BMI        947 non-null    float64\n",
            "dtypes: float64(8), int64(4), object(1)\n",
            "memory usage: 103.6+ KB\n"
          ]
        }
      ]
    },
    {
      "cell_type": "markdown",
      "source": [
        "É possível notar que não há dados faltantes e nem duplicatas"
      ],
      "metadata": {
        "id": "trqjVVAiVMml"
      }
    },
    {
      "cell_type": "code",
      "source": [
        "print(x.isnull().sum())\n",
        "print(x.duplicated().sum())"
      ],
      "metadata": {
        "colab": {
          "base_uri": "https://localhost:8080/"
        },
        "id": "YrGCd2itVLQs",
        "outputId": "48099cc8-38db-4868-d7e4-d4cd5bc415b0"
      },
      "execution_count": 183,
      "outputs": [
        {
          "output_type": "stream",
          "name": "stdout",
          "text": [
            "ID           0\n",
            "No_Pation    0\n",
            "Gender       0\n",
            "AGE          0\n",
            "Urea         0\n",
            "Cr           0\n",
            "HbA1c        0\n",
            "Chol         0\n",
            "TG           0\n",
            "HDL          0\n",
            "LDL          0\n",
            "VLDL         0\n",
            "BMI          0\n",
            "dtype: int64\n",
            "0\n"
          ]
        }
      ]
    },
    {
      "cell_type": "markdown",
      "source": [
        "###Conversão de dados categóricos em numéricos"
      ],
      "metadata": {
        "id": "RcgoTgJ5VflL"
      }
    },
    {
      "cell_type": "code",
      "source": [
        "x[\"Gender\"] = x[\"Gender\"].map({\"M\": 0, \"F\": 1})\n",
        "x.head()"
      ],
      "metadata": {
        "colab": {
          "base_uri": "https://localhost:8080/",
          "height": 206
        },
        "id": "4jMy-E5zViob",
        "outputId": "195ccad6-8bc7-4ded-f7a5-ecb9791f2511"
      },
      "execution_count": 184,
      "outputs": [
        {
          "output_type": "execute_result",
          "data": {
            "text/plain": [
              "    ID  No_Pation  Gender  AGE  Urea  Cr  HbA1c  Chol   TG  HDL  LDL  VLDL  \\\n",
              "0  502      17975     1.0   50   4.7  46    4.9   4.2  0.9  2.4  1.4   0.5   \n",
              "1  735      34221     0.0   26   4.5  62    4.9   3.7  1.4  1.1  2.1   0.6   \n",
              "2  420      47975     1.0   50   4.7  46    4.9   4.2  0.9  2.4  1.4   0.5   \n",
              "3  680      87656     1.0   50   4.7  46    4.9   4.2  0.9  2.4  1.4   0.5   \n",
              "4  504      34223     0.0   33   7.1  46    4.9   4.9  1.0  0.8  2.0   0.4   \n",
              "\n",
              "    BMI  \n",
              "0  24.0  \n",
              "1  23.0  \n",
              "2  24.0  \n",
              "3  24.0  \n",
              "4  21.0  "
            ],
            "text/html": [
              "\n",
              "  <div id=\"df-dc6ae789-085a-4576-b489-8dfd8d7c644d\" class=\"colab-df-container\">\n",
              "    <div>\n",
              "<style scoped>\n",
              "    .dataframe tbody tr th:only-of-type {\n",
              "        vertical-align: middle;\n",
              "    }\n",
              "\n",
              "    .dataframe tbody tr th {\n",
              "        vertical-align: top;\n",
              "    }\n",
              "\n",
              "    .dataframe thead th {\n",
              "        text-align: right;\n",
              "    }\n",
              "</style>\n",
              "<table border=\"1\" class=\"dataframe\">\n",
              "  <thead>\n",
              "    <tr style=\"text-align: right;\">\n",
              "      <th></th>\n",
              "      <th>ID</th>\n",
              "      <th>No_Pation</th>\n",
              "      <th>Gender</th>\n",
              "      <th>AGE</th>\n",
              "      <th>Urea</th>\n",
              "      <th>Cr</th>\n",
              "      <th>HbA1c</th>\n",
              "      <th>Chol</th>\n",
              "      <th>TG</th>\n",
              "      <th>HDL</th>\n",
              "      <th>LDL</th>\n",
              "      <th>VLDL</th>\n",
              "      <th>BMI</th>\n",
              "    </tr>\n",
              "  </thead>\n",
              "  <tbody>\n",
              "    <tr>\n",
              "      <th>0</th>\n",
              "      <td>502</td>\n",
              "      <td>17975</td>\n",
              "      <td>1.0</td>\n",
              "      <td>50</td>\n",
              "      <td>4.7</td>\n",
              "      <td>46</td>\n",
              "      <td>4.9</td>\n",
              "      <td>4.2</td>\n",
              "      <td>0.9</td>\n",
              "      <td>2.4</td>\n",
              "      <td>1.4</td>\n",
              "      <td>0.5</td>\n",
              "      <td>24.0</td>\n",
              "    </tr>\n",
              "    <tr>\n",
              "      <th>1</th>\n",
              "      <td>735</td>\n",
              "      <td>34221</td>\n",
              "      <td>0.0</td>\n",
              "      <td>26</td>\n",
              "      <td>4.5</td>\n",
              "      <td>62</td>\n",
              "      <td>4.9</td>\n",
              "      <td>3.7</td>\n",
              "      <td>1.4</td>\n",
              "      <td>1.1</td>\n",
              "      <td>2.1</td>\n",
              "      <td>0.6</td>\n",
              "      <td>23.0</td>\n",
              "    </tr>\n",
              "    <tr>\n",
              "      <th>2</th>\n",
              "      <td>420</td>\n",
              "      <td>47975</td>\n",
              "      <td>1.0</td>\n",
              "      <td>50</td>\n",
              "      <td>4.7</td>\n",
              "      <td>46</td>\n",
              "      <td>4.9</td>\n",
              "      <td>4.2</td>\n",
              "      <td>0.9</td>\n",
              "      <td>2.4</td>\n",
              "      <td>1.4</td>\n",
              "      <td>0.5</td>\n",
              "      <td>24.0</td>\n",
              "    </tr>\n",
              "    <tr>\n",
              "      <th>3</th>\n",
              "      <td>680</td>\n",
              "      <td>87656</td>\n",
              "      <td>1.0</td>\n",
              "      <td>50</td>\n",
              "      <td>4.7</td>\n",
              "      <td>46</td>\n",
              "      <td>4.9</td>\n",
              "      <td>4.2</td>\n",
              "      <td>0.9</td>\n",
              "      <td>2.4</td>\n",
              "      <td>1.4</td>\n",
              "      <td>0.5</td>\n",
              "      <td>24.0</td>\n",
              "    </tr>\n",
              "    <tr>\n",
              "      <th>4</th>\n",
              "      <td>504</td>\n",
              "      <td>34223</td>\n",
              "      <td>0.0</td>\n",
              "      <td>33</td>\n",
              "      <td>7.1</td>\n",
              "      <td>46</td>\n",
              "      <td>4.9</td>\n",
              "      <td>4.9</td>\n",
              "      <td>1.0</td>\n",
              "      <td>0.8</td>\n",
              "      <td>2.0</td>\n",
              "      <td>0.4</td>\n",
              "      <td>21.0</td>\n",
              "    </tr>\n",
              "  </tbody>\n",
              "</table>\n",
              "</div>\n",
              "    <div class=\"colab-df-buttons\">\n",
              "\n",
              "  <div class=\"colab-df-container\">\n",
              "    <button class=\"colab-df-convert\" onclick=\"convertToInteractive('df-dc6ae789-085a-4576-b489-8dfd8d7c644d')\"\n",
              "            title=\"Convert this dataframe to an interactive table.\"\n",
              "            style=\"display:none;\">\n",
              "\n",
              "  <svg xmlns=\"http://www.w3.org/2000/svg\" height=\"24px\" viewBox=\"0 -960 960 960\">\n",
              "    <path d=\"M120-120v-720h720v720H120Zm60-500h600v-160H180v160Zm220 220h160v-160H400v160Zm0 220h160v-160H400v160ZM180-400h160v-160H180v160Zm440 0h160v-160H620v160ZM180-180h160v-160H180v160Zm440 0h160v-160H620v160Z\"/>\n",
              "  </svg>\n",
              "    </button>\n",
              "\n",
              "  <style>\n",
              "    .colab-df-container {\n",
              "      display:flex;\n",
              "      gap: 12px;\n",
              "    }\n",
              "\n",
              "    .colab-df-convert {\n",
              "      background-color: #E8F0FE;\n",
              "      border: none;\n",
              "      border-radius: 50%;\n",
              "      cursor: pointer;\n",
              "      display: none;\n",
              "      fill: #1967D2;\n",
              "      height: 32px;\n",
              "      padding: 0 0 0 0;\n",
              "      width: 32px;\n",
              "    }\n",
              "\n",
              "    .colab-df-convert:hover {\n",
              "      background-color: #E2EBFA;\n",
              "      box-shadow: 0px 1px 2px rgba(60, 64, 67, 0.3), 0px 1px 3px 1px rgba(60, 64, 67, 0.15);\n",
              "      fill: #174EA6;\n",
              "    }\n",
              "\n",
              "    .colab-df-buttons div {\n",
              "      margin-bottom: 4px;\n",
              "    }\n",
              "\n",
              "    [theme=dark] .colab-df-convert {\n",
              "      background-color: #3B4455;\n",
              "      fill: #D2E3FC;\n",
              "    }\n",
              "\n",
              "    [theme=dark] .colab-df-convert:hover {\n",
              "      background-color: #434B5C;\n",
              "      box-shadow: 0px 1px 3px 1px rgba(0, 0, 0, 0.15);\n",
              "      filter: drop-shadow(0px 1px 2px rgba(0, 0, 0, 0.3));\n",
              "      fill: #FFFFFF;\n",
              "    }\n",
              "  </style>\n",
              "\n",
              "    <script>\n",
              "      const buttonEl =\n",
              "        document.querySelector('#df-dc6ae789-085a-4576-b489-8dfd8d7c644d button.colab-df-convert');\n",
              "      buttonEl.style.display =\n",
              "        google.colab.kernel.accessAllowed ? 'block' : 'none';\n",
              "\n",
              "      async function convertToInteractive(key) {\n",
              "        const element = document.querySelector('#df-dc6ae789-085a-4576-b489-8dfd8d7c644d');\n",
              "        const dataTable =\n",
              "          await google.colab.kernel.invokeFunction('convertToInteractive',\n",
              "                                                    [key], {});\n",
              "        if (!dataTable) return;\n",
              "\n",
              "        const docLinkHtml = 'Like what you see? Visit the ' +\n",
              "          '<a target=\"_blank\" href=https://colab.research.google.com/notebooks/data_table.ipynb>data table notebook</a>'\n",
              "          + ' to learn more about interactive tables.';\n",
              "        element.innerHTML = '';\n",
              "        dataTable['output_type'] = 'display_data';\n",
              "        await google.colab.output.renderOutput(dataTable, element);\n",
              "        const docLink = document.createElement('div');\n",
              "        docLink.innerHTML = docLinkHtml;\n",
              "        element.appendChild(docLink);\n",
              "      }\n",
              "    </script>\n",
              "  </div>\n",
              "\n",
              "\n",
              "    <div id=\"df-94dbdd0d-5233-444d-a876-fdf87ef00cde\">\n",
              "      <button class=\"colab-df-quickchart\" onclick=\"quickchart('df-94dbdd0d-5233-444d-a876-fdf87ef00cde')\"\n",
              "                title=\"Suggest charts\"\n",
              "                style=\"display:none;\">\n",
              "\n",
              "<svg xmlns=\"http://www.w3.org/2000/svg\" height=\"24px\"viewBox=\"0 0 24 24\"\n",
              "     width=\"24px\">\n",
              "    <g>\n",
              "        <path d=\"M19 3H5c-1.1 0-2 .9-2 2v14c0 1.1.9 2 2 2h14c1.1 0 2-.9 2-2V5c0-1.1-.9-2-2-2zM9 17H7v-7h2v7zm4 0h-2V7h2v10zm4 0h-2v-4h2v4z\"/>\n",
              "    </g>\n",
              "</svg>\n",
              "      </button>\n",
              "\n",
              "<style>\n",
              "  .colab-df-quickchart {\n",
              "      --bg-color: #E8F0FE;\n",
              "      --fill-color: #1967D2;\n",
              "      --hover-bg-color: #E2EBFA;\n",
              "      --hover-fill-color: #174EA6;\n",
              "      --disabled-fill-color: #AAA;\n",
              "      --disabled-bg-color: #DDD;\n",
              "  }\n",
              "\n",
              "  [theme=dark] .colab-df-quickchart {\n",
              "      --bg-color: #3B4455;\n",
              "      --fill-color: #D2E3FC;\n",
              "      --hover-bg-color: #434B5C;\n",
              "      --hover-fill-color: #FFFFFF;\n",
              "      --disabled-bg-color: #3B4455;\n",
              "      --disabled-fill-color: #666;\n",
              "  }\n",
              "\n",
              "  .colab-df-quickchart {\n",
              "    background-color: var(--bg-color);\n",
              "    border: none;\n",
              "    border-radius: 50%;\n",
              "    cursor: pointer;\n",
              "    display: none;\n",
              "    fill: var(--fill-color);\n",
              "    height: 32px;\n",
              "    padding: 0;\n",
              "    width: 32px;\n",
              "  }\n",
              "\n",
              "  .colab-df-quickchart:hover {\n",
              "    background-color: var(--hover-bg-color);\n",
              "    box-shadow: 0 1px 2px rgba(60, 64, 67, 0.3), 0 1px 3px 1px rgba(60, 64, 67, 0.15);\n",
              "    fill: var(--button-hover-fill-color);\n",
              "  }\n",
              "\n",
              "  .colab-df-quickchart-complete:disabled,\n",
              "  .colab-df-quickchart-complete:disabled:hover {\n",
              "    background-color: var(--disabled-bg-color);\n",
              "    fill: var(--disabled-fill-color);\n",
              "    box-shadow: none;\n",
              "  }\n",
              "\n",
              "  .colab-df-spinner {\n",
              "    border: 2px solid var(--fill-color);\n",
              "    border-color: transparent;\n",
              "    border-bottom-color: var(--fill-color);\n",
              "    animation:\n",
              "      spin 1s steps(1) infinite;\n",
              "  }\n",
              "\n",
              "  @keyframes spin {\n",
              "    0% {\n",
              "      border-color: transparent;\n",
              "      border-bottom-color: var(--fill-color);\n",
              "      border-left-color: var(--fill-color);\n",
              "    }\n",
              "    20% {\n",
              "      border-color: transparent;\n",
              "      border-left-color: var(--fill-color);\n",
              "      border-top-color: var(--fill-color);\n",
              "    }\n",
              "    30% {\n",
              "      border-color: transparent;\n",
              "      border-left-color: var(--fill-color);\n",
              "      border-top-color: var(--fill-color);\n",
              "      border-right-color: var(--fill-color);\n",
              "    }\n",
              "    40% {\n",
              "      border-color: transparent;\n",
              "      border-right-color: var(--fill-color);\n",
              "      border-top-color: var(--fill-color);\n",
              "    }\n",
              "    60% {\n",
              "      border-color: transparent;\n",
              "      border-right-color: var(--fill-color);\n",
              "    }\n",
              "    80% {\n",
              "      border-color: transparent;\n",
              "      border-right-color: var(--fill-color);\n",
              "      border-bottom-color: var(--fill-color);\n",
              "    }\n",
              "    90% {\n",
              "      border-color: transparent;\n",
              "      border-bottom-color: var(--fill-color);\n",
              "    }\n",
              "  }\n",
              "</style>\n",
              "\n",
              "      <script>\n",
              "        async function quickchart(key) {\n",
              "          const quickchartButtonEl =\n",
              "            document.querySelector('#' + key + ' button');\n",
              "          quickchartButtonEl.disabled = true;  // To prevent multiple clicks.\n",
              "          quickchartButtonEl.classList.add('colab-df-spinner');\n",
              "          try {\n",
              "            const charts = await google.colab.kernel.invokeFunction(\n",
              "                'suggestCharts', [key], {});\n",
              "          } catch (error) {\n",
              "            console.error('Error during call to suggestCharts:', error);\n",
              "          }\n",
              "          quickchartButtonEl.classList.remove('colab-df-spinner');\n",
              "          quickchartButtonEl.classList.add('colab-df-quickchart-complete');\n",
              "        }\n",
              "        (() => {\n",
              "          let quickchartButtonEl =\n",
              "            document.querySelector('#df-94dbdd0d-5233-444d-a876-fdf87ef00cde button');\n",
              "          quickchartButtonEl.style.display =\n",
              "            google.colab.kernel.accessAllowed ? 'block' : 'none';\n",
              "        })();\n",
              "      </script>\n",
              "    </div>\n",
              "\n",
              "    </div>\n",
              "  </div>\n"
            ],
            "application/vnd.google.colaboratory.intrinsic+json": {
              "type": "dataframe",
              "variable_name": "x",
              "summary": "{\n  \"name\": \"x\",\n  \"rows\": 947,\n  \"fields\": [\n    {\n      \"column\": \"ID\",\n      \"properties\": {\n        \"dtype\": \"number\",\n        \"std\": 238,\n        \"min\": 1,\n        \"max\": 800,\n        \"num_unique_values\": 765,\n        \"samples\": [\n          601,\n          311,\n          491\n        ],\n        \"semantic_type\": \"\",\n        \"description\": \"\"\n      }\n    },\n    {\n      \"column\": \"No_Pation\",\n      \"properties\": {\n        \"dtype\": \"number\",\n        \"std\": 3473736,\n        \"min\": 123,\n        \"max\": 75435657,\n        \"num_unique_values\": 908,\n        \"samples\": [\n          7565435,\n          23980,\n          24114\n        ],\n        \"semantic_type\": \"\",\n        \"description\": \"\"\n      }\n    },\n    {\n      \"column\": \"Gender\",\n      \"properties\": {\n        \"dtype\": \"number\",\n        \"std\": 0.49674601414661906,\n        \"min\": 0.0,\n        \"max\": 1.0,\n        \"num_unique_values\": 2,\n        \"samples\": [\n          0.0,\n          1.0\n        ],\n        \"semantic_type\": \"\",\n        \"description\": \"\"\n      }\n    },\n    {\n      \"column\": \"AGE\",\n      \"properties\": {\n        \"dtype\": \"number\",\n        \"std\": 8,\n        \"min\": 20,\n        \"max\": 79,\n        \"num_unique_values\": 50,\n        \"samples\": [\n          44,\n          68\n        ],\n        \"semantic_type\": \"\",\n        \"description\": \"\"\n      }\n    },\n    {\n      \"column\": \"Urea\",\n      \"properties\": {\n        \"dtype\": \"number\",\n        \"std\": 2.975024369084152,\n        \"min\": 0.5,\n        \"max\": 38.9,\n        \"num_unique_values\": 109,\n        \"samples\": [\n          1.9,\n          4.6\n        ],\n        \"semantic_type\": \"\",\n        \"description\": \"\"\n      }\n    },\n    {\n      \"column\": \"Cr\",\n      \"properties\": {\n        \"dtype\": \"number\",\n        \"std\": 60,\n        \"min\": 6,\n        \"max\": 800,\n        \"num_unique_values\": 112,\n        \"samples\": [\n          97,\n          25\n        ],\n        \"semantic_type\": \"\",\n        \"description\": \"\"\n      }\n    },\n    {\n      \"column\": \"HbA1c\",\n      \"properties\": {\n        \"dtype\": \"number\",\n        \"std\": 2.5440398546581786,\n        \"min\": 0.9,\n        \"max\": 16.0,\n        \"num_unique_values\": 111,\n        \"samples\": [\n          6.3,\n          4.3\n        ],\n        \"semantic_type\": \"\",\n        \"description\": \"\"\n      }\n    },\n    {\n      \"column\": \"Chol\",\n      \"properties\": {\n        \"dtype\": \"number\",\n        \"std\": 1.313355681543849,\n        \"min\": 0.0,\n        \"max\": 10.3,\n        \"num_unique_values\": 77,\n        \"samples\": [\n          3.6,\n          5.9\n        ],\n        \"semantic_type\": \"\",\n        \"description\": \"\"\n      }\n    },\n    {\n      \"column\": \"TG\",\n      \"properties\": {\n        \"dtype\": \"number\",\n        \"std\": 1.4172748462146312,\n        \"min\": 0.3,\n        \"max\": 13.8,\n        \"num_unique_values\": 69,\n        \"samples\": [\n          2.7,\n          0.9\n        ],\n        \"semantic_type\": \"\",\n        \"description\": \"\"\n      }\n    },\n    {\n      \"column\": \"HDL\",\n      \"properties\": {\n        \"dtype\": \"number\",\n        \"std\": 0.6724233577358292,\n        \"min\": 0.2,\n        \"max\": 9.9,\n        \"num_unique_values\": 47,\n        \"samples\": [\n          6.3,\n          0.2\n        ],\n        \"semantic_type\": \"\",\n        \"description\": \"\"\n      }\n    },\n    {\n      \"column\": \"LDL\",\n      \"properties\": {\n        \"dtype\": \"number\",\n        \"std\": 1.1273155940731643,\n        \"min\": 0.3,\n        \"max\": 9.9,\n        \"num_unique_values\": 65,\n        \"samples\": [\n          7.5,\n          5.1\n        ],\n        \"semantic_type\": \"\",\n        \"description\": \"\"\n      }\n    },\n    {\n      \"column\": \"VLDL\",\n      \"properties\": {\n        \"dtype\": \"number\",\n        \"std\": 3.757011556497154,\n        \"min\": 0.1,\n        \"max\": 35.0,\n        \"num_unique_values\": 60,\n        \"samples\": [\n          0.5,\n          0.8\n        ],\n        \"semantic_type\": \"\",\n        \"description\": \"\"\n      }\n    },\n    {\n      \"column\": \"BMI\",\n      \"properties\": {\n        \"dtype\": \"number\",\n        \"std\": 4.869852279913663,\n        \"min\": 19.0,\n        \"max\": 47.75,\n        \"num_unique_values\": 63,\n        \"samples\": [\n          32.65,\n          37.62\n        ],\n        \"semantic_type\": \"\",\n        \"description\": \"\"\n      }\n    }\n  ]\n}"
            }
          },
          "metadata": {},
          "execution_count": 184
        }
      ]
    },
    {
      "cell_type": "code",
      "source": [
        "print(x.describe())"
      ],
      "metadata": {
        "colab": {
          "base_uri": "https://localhost:8080/"
        },
        "id": "NlGHDs-QXEl3",
        "outputId": "10704f3e-8cc0-4d45-a3fe-a3af96f5f6bf"
      },
      "execution_count": 185,
      "outputs": [
        {
          "output_type": "stream",
          "name": "stdout",
          "text": [
            "               ID     No_Pation      Gender         AGE        Urea  \\\n",
            "count  947.000000  9.470000e+02  946.000000  947.000000  947.000000   \n",
            "mean   337.390707  2.820946e+05    0.440803   54.101373    5.159074   \n",
            "std    238.938561  3.473737e+06    0.496746    8.499612    2.975024   \n",
            "min      1.000000  1.230000e+02    0.000000   20.000000    0.500000   \n",
            "25%    125.000000  2.406350e+04    0.000000   51.000000    3.700000   \n",
            "50%    295.000000  3.439000e+04    0.000000   55.000000    4.600000   \n",
            "75%    546.500000  4.536950e+04    1.000000   59.000000    5.700000   \n",
            "max    800.000000  7.543566e+07    1.000000   79.000000   38.900000   \n",
            "\n",
            "               Cr       HbA1c        Chol          TG         HDL         LDL  \\\n",
            "count  947.000000  947.000000  947.000000  947.000000  947.000000  947.000000   \n",
            "mean    69.103485    8.408617    4.878691    2.362101    1.209081    2.616304   \n",
            "std     60.862961    2.544040    1.313356    1.417275    0.672423    1.127316   \n",
            "min      6.000000    0.900000    0.000000    0.300000    0.200000    0.300000   \n",
            "25%     48.000000    6.800000    4.000000    1.500000    0.900000    1.800000   \n",
            "50%     60.000000    8.100000    4.800000    2.000000    1.100000    2.500000   \n",
            "75%     73.000000   10.200000    5.600000    2.900000    1.300000    3.300000   \n",
            "max    800.000000   16.000000   10.300000   13.800000    9.900000    9.900000   \n",
            "\n",
            "             VLDL         BMI  \n",
            "count  947.000000  947.000000  \n",
            "mean     1.903485   29.893897  \n",
            "std      3.757012    4.869852  \n",
            "min      0.100000   19.000000  \n",
            "25%      0.700000   27.000000  \n",
            "50%      1.000000   30.000000  \n",
            "75%      1.500000   33.000000  \n",
            "max     35.000000   47.750000  \n"
          ]
        }
      ]
    },
    {
      "cell_type": "markdown",
      "source": [
        "##Escolha dos Dados\n",
        "<p>Utilizando a correlação de Pearson para escolher os dados relevantes para a classificação"
      ],
      "metadata": {
        "id": "UR_PGkr0X1A6"
      }
    },
    {
      "cell_type": "code",
      "source": [
        "# Correlação com a classe\n",
        "corr = x.corrwith(y)\n",
        "print(corr.sort_values(ascending=False))"
      ],
      "metadata": {
        "id": "HBOXbXzkXsfI",
        "colab": {
          "base_uri": "https://localhost:8080/"
        },
        "outputId": "70f51be4-c1e3-407b-b0fa-85a29283ecbd"
      },
      "execution_count": 186,
      "outputs": [
        {
          "output_type": "stream",
          "name": "stdout",
          "text": [
            "BMI          0.539671\n",
            "HbA1c        0.528732\n",
            "AGE          0.405810\n",
            "TG           0.181722\n",
            "Chol         0.162275\n",
            "VLDL         0.089292\n",
            "Urea         0.056216\n",
            "Cr           0.036222\n",
            "LDL         -0.002771\n",
            "HDL         -0.009410\n",
            "ID          -0.045145\n",
            "No_Pation   -0.053706\n",
            "Gender      -0.127119\n",
            "dtype: float64\n"
          ]
        }
      ]
    },
    {
      "cell_type": "markdown",
      "source": [
        "##Classes selecionadas:\n"
      ],
      "metadata": {
        "id": "a9TeUJ0dYMwD"
      }
    },
    {
      "cell_type": "markdown",
      "source": [
        "Baseado na correleção de pearson, optou-se por HbA1c, BMI, AGE, TG, por serem classes mais fortemente relacionadas."
      ],
      "metadata": {
        "id": "AlT7oeZqYgzw"
      }
    },
    {
      "cell_type": "code",
      "source": [
        "# Selecionar features relevantes\n",
        "features = [\"HbA1c\", \"BMI\", \"TG\", \"AGE\"]\n",
        "X = x[features].values.T\n",
        "Y = y.values.flatten()"
      ],
      "metadata": {
        "id": "Ajpq3NyHYuwB"
      },
      "execution_count": 187,
      "outputs": []
    },
    {
      "cell_type": "markdown",
      "source": [
        "## --- TREINAMENTO ---\n",
        "<p>Como sklearn separa por linha, precisamos fazer um \"transpose\" para facilitar"
      ],
      "metadata": {
        "id": "Z0gJiBe9ecWp"
      }
    },
    {
      "cell_type": "code",
      "source": [
        "from sklearn.model_selection import train_test_split\n",
        "\n",
        "X_t = X.T  # (amostras x features)\n",
        "\n",
        "# Use y for stratification\n",
        "X_temp, X_test, y_temp, y_test = train_test_split(X_t, y, test_size=0.2, random_state=42, stratify=y)\n",
        "X_train, X_val, y_train, y_val = train_test_split(X_temp, y_temp, test_size=0.25, random_state=42, stratify=y_temp)\n",
        "\n",
        "# 0.25 * 0.8 = 0.2 (20% validação)\n",
        "\n",
        "# Transpor para (features x amostras)\n",
        "X_train = X_train.T\n",
        "X_val = X_val.T\n",
        "X_test = X_test.T\n",
        "\n",
        "# --- Normalizar usando só dados de treino ---\n",
        "mean_train = X_train.mean(axis=1, keepdims=True)\n",
        "std_train = X_train.std(axis=1, keepdims=True)\n",
        "\n",
        "X_train_norm = (X_train - mean_train) / std_train\n",
        "X_val_norm = (X_val - mean_train) / std_train\n",
        "X_test_norm = (X_test - mean_train) / std_train"
      ],
      "metadata": {
        "id": "1hMBgdot-YBg"
      },
      "execution_count": 188,
      "outputs": []
    },
    {
      "cell_type": "markdown",
      "source": [
        "##Configurando Bias"
      ],
      "metadata": {
        "id": "CxNSG7HGY4e3"
      }
    },
    {
      "cell_type": "code",
      "source": [
        "def add_bias(X):\n",
        "    bias = np.ones((1, X.shape[1]))\n",
        "    return np.vstack([bias, X])\n",
        "\n",
        "X_train_bias = add_bias(X_train_norm)\n",
        "X_val_bias = add_bias(X_val_norm)\n",
        "X_test_bias = add_bias(X_test_norm)"
      ],
      "metadata": {
        "id": "_mX9btBrY6cd"
      },
      "execution_count": 189,
      "outputs": []
    },
    {
      "cell_type": "code",
      "source": [
        "import numpy as np\n",
        "\n",
        "def treinar_perceptron(x, y, w_inicial, eta=0.1, max_iter=1000):\n",
        "    \"\"\"\n",
        "    Treina um perceptron simples.\n",
        "\n",
        "    Parâmetros:\n",
        "        x (ndarray): Matriz de entrada (shape: 3 x N).\n",
        "        y (ndarray): Vetor de saídas esperadas (shape: N).\n",
        "        w_inicial (ndarray): Pesos iniciais (shape: 3 x 1).\n",
        "        eta (float): Taxa de aprendizado.\n",
        "        max_iter (int): Número máximo de iterações para evitar loops infinitos.\n",
        "\n",
        "    Retorna:\n",
        "        w (ndarray): Pesos finais treinados.\n",
        "        cont (int): Número de atualizações realizadas.\n",
        "    \"\"\"\n",
        "    w = w_inicial.copy()\n",
        "    # Use the values of y as a NumPy array to avoid index issues\n",
        "    y_values = y.values\n",
        "    e = np.ones(len(y_values))\n",
        "    cont = 0\n",
        "    iteracoes = 0\n",
        "\n",
        "    while np.any(e) and iteracoes < max_iter:\n",
        "        for i in range(len(y_values)):\n",
        "            u = np.dot(x[:, i], w)\n",
        "            f = ((np.sign(u) + 1) / 2).item()  # garante que f é escalar\n",
        "            # Access y using positional index from the values array\n",
        "            e[i] = y_values[i] - f\n",
        "            w += eta * e[i] * x[:, i].reshape(-1, 1)\n",
        "            cont += 1\n",
        "        iteracoes += 1\n",
        "\n",
        "    return w, cont\n"
      ],
      "metadata": {
        "id": "Zy3IEDDfOZDA"
      },
      "execution_count": 190,
      "outputs": []
    },
    {
      "cell_type": "code",
      "source": [
        "def prever(x, w):\n",
        "    \"\"\"\n",
        "    Realiza a predição dos dados de entrada usando os pesos treinados.\n",
        "\n",
        "    Parâmetros:\n",
        "        x (ndarray): Matriz de entrada (shape: 3 x N).\n",
        "        w (ndarray): Vetor de pesos treinado (shape: 3 x 1).\n",
        "\n",
        "    Retorna:\n",
        "        y_pred (ndarray): Vetor de predições (0 ou 1).\n",
        "    \"\"\"\n",
        "    u = np.dot(w.T, x)\n",
        "    u = np.nan_to_num(u)  # Tratamento de NaNs\n",
        "    y_pred = ((np.sign(u) + 1) / 2).astype(int).flatten()\n",
        "    return y_pred"
      ],
      "metadata": {
        "id": "VpX0LA6FJA_-"
      },
      "execution_count": 191,
      "outputs": []
    },
    {
      "cell_type": "code",
      "source": [
        "w_inicial = np.zeros((X_train_bias.shape[0], 1))\n",
        "w_final, atualizacoes = treinar_perceptron(X_train_bias, y_train, w_inicial, eta=0.01, max_iter=5000)\n"
      ],
      "metadata": {
        "id": "6XIuU7BVY9Zd"
      },
      "execution_count": 192,
      "outputs": []
    },
    {
      "cell_type": "markdown",
      "source": [
        "#Analisando resultados"
      ],
      "metadata": {
        "id": "geoFV7BCZb1Z"
      }
    },
    {
      "cell_type": "code",
      "source": [
        "y_val_pred = prever(X_val_bias, w_final)\n",
        "print(\"Validação - Acurácia:\", accuracy_score(y_val, y_val_pred) * 100)\n",
        "print(classification_report(y_val, y_val_pred))"
      ],
      "metadata": {
        "colab": {
          "base_uri": "https://localhost:8080/"
        },
        "id": "KdW1an3WZnFq",
        "outputId": "d718b65d-3563-405a-8e44-24fc2475633a"
      },
      "execution_count": 193,
      "outputs": [
        {
          "output_type": "stream",
          "name": "stdout",
          "text": [
            "Validação - Acurácia: 93.6842105263158\n",
            "              precision    recall  f1-score   support\n",
            "\n",
            "           0       0.80      0.57      0.67        21\n",
            "           1       0.95      0.98      0.97       169\n",
            "\n",
            "    accuracy                           0.94       190\n",
            "   macro avg       0.87      0.78      0.82       190\n",
            "weighted avg       0.93      0.94      0.93       190\n",
            "\n"
          ]
        }
      ]
    },
    {
      "cell_type": "code",
      "source": [
        "# Matriz de Confusão Perceptron\n",
        "cm = confusion_matrix(y_val, y_val_pred)\n",
        "# Criar o gráfico da matriz de confusão\n",
        "disp = ConfusionMatrixDisplay(confusion_matrix=cm, display_labels=[0, 1]) # Defina os rótulos das classes conforme necessário\n",
        "disp.plot(cmap=plt.cm.Blues)\n",
        "plt.title('Matriz de Confusão para o Perceptron (Validação)')\n",
        "plt.show()"
      ],
      "metadata": {
        "colab": {
          "base_uri": "https://localhost:8080/",
          "height": 472
        },
        "id": "odiHOAt6_Mlu",
        "outputId": "b064fe25-6f8a-4898-903f-ca336012db59"
      },
      "execution_count": 194,
      "outputs": [
        {
          "output_type": "display_data",
          "data": {
            "text/plain": [
              "<Figure size 640x480 with 2 Axes>"
            ],
            "image/png": "[encoded data removed]"
          },
          "metadata": {}
        }
      ]
    },
    {
      "cell_type": "code",
      "source": [
        "y_pred = y_val_pred\n",
        "print(\"Acurácia:\", accuracy_score(y_val, y_pred))\n",
        "print(\"Precisão:\", precision_score(y_val, y_pred))\n",
        "print(\"Recall:\", recall_score(y_val, y_pred))"
      ],
      "metadata": {
        "colab": {
          "base_uri": "https://localhost:8080/"
        },
        "id": "KDsEy5xW_MjL",
        "outputId": "06860c65-2db1-4c69-eed3-85e475d4299e"
      },
      "execution_count": 195,
      "outputs": [
        {
          "output_type": "stream",
          "name": "stdout",
          "text": [
            "Acurácia: 0.9368421052631579\n",
            "Precisão: 0.9485714285714286\n",
            "Recall: 0.9822485207100592\n"
          ]
        }
      ]
    }
  ]
}