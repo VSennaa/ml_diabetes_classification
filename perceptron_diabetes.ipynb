{
  "nbformat": 4,
  "nbformat_minor": 0,
  "metadata": {
    "colab": {
      "provenance": [],
      "authorship_tag": "ABX9TyOFZuLhukSMyEadUuixgZnP",
      "include_colab_link": true
    },
    "kernelspec": {
      "name": "python3",
      "display_name": "Python 3"
    },
    "language_info": {
      "name": "python"
    }
  },
  "cells": [
    {
      "cell_type": "markdown",
      "metadata": {
        "id": "view-in-github",
        "colab_type": "text"
      },
      "source": [
        "<a href=\"https://colab.research.google.com/github/VSennaa/ml_diabetes_classification/blob/main/perceptron_diabetes.ipynb\" target=\"_parent\"><img src=\"https://colab.research.google.com/assets/colab-badge.svg\" alt=\"Open In Colab\"/></a>"
      ]
    },
    {
      "cell_type": "markdown",
      "source": [
        "# Notebook Artigo Classificação de Diabétes com Perceptron\n",
        "Colaboradores:\n",
        "<p>Lucas Nunes Assumpção\n",
        "<p>Pedro Henrique Araújo\n",
        "<p>Victor Diniz Pessoa\n",
        "<p>Vinicios Rodrigo Sena Martins"
      ],
      "metadata": {
        "id": "85LuCQ4dR0pl"
      }
    },
    {
      "cell_type": "markdown",
      "source": [
        "# O que é Perceptron\n",
        "<p> Trata-se de um classificador linear binário, ou seja, um algoritmo capaz de discriminar duas classes através do plano cartesiano, neste caso, entre diabéticos e não diabéticos. Sua implementação consta na função treinar_perceptron."
      ],
      "metadata": {
        "id": "TmbngPg4SICj"
      }
    },
    {
      "cell_type": "markdown",
      "source": [
        "# Conjunto de Dados (dataset)\n",
        "<p>Nosso dataset foi obtido na plataforma kaggle e possui seu resumo abaixo:"
      ],
      "metadata": {
        "id": "vwKcVDNNSiP2"
      }
    },
    {
      "cell_type": "code",
      "source": [
        "import pandas as pd\n",
        "import numpy as np\n",
        "import matplotlib.pyplot as plt\n",
        "import seaborn as sns\n",
        "from sklearn.utils import resample\n",
        "from sklearn.model_selection import train_test_split\n",
        "from sklearn.metrics import classification_report, accuracy_score\n"
      ],
      "metadata": {
        "id": "gi_3IspNft_p"
      },
      "execution_count": 143,
      "outputs": []
    },
    {
      "cell_type": "code",
      "source": [
        "# Carregametno do dataset\n",
        "url = 'https://raw.githubusercontent.com/VSennaa/ml_diabetes_classification/refs/heads/main/Dataset_of_Diabetes.csv'\n",
        "df = pd.read_csv(url)\n",
        "df.head()"
      ],
      "metadata": {
        "colab": {
          "base_uri": "https://localhost:8080/",
          "height": 206
        },
        "id": "s6ODTxwfScUP",
        "outputId": "fbf9bcc8-449d-41c6-bf4f-5978b7b2bb49"
      },
      "execution_count": 144,
      "outputs": [
        {
          "output_type": "execute_result",
          "data": {
            "text/plain": [
              "    ID  No_Pation Gender  AGE  Urea  Cr  HbA1c  Chol   TG  HDL  LDL  VLDL  \\\n",
              "0  502      17975      F   50   4.7  46    4.9   4.2  0.9  2.4  1.4   0.5   \n",
              "1  735      34221      M   26   4.5  62    4.9   3.7  1.4  1.1  2.1   0.6   \n",
              "2  420      47975      F   50   4.7  46    4.9   4.2  0.9  2.4  1.4   0.5   \n",
              "3  680      87656      F   50   4.7  46    4.9   4.2  0.9  2.4  1.4   0.5   \n",
              "4  504      34223      M   33   7.1  46    4.9   4.9  1.0  0.8  2.0   0.4   \n",
              "\n",
              "    BMI CLASS  \n",
              "0  24.0     N  \n",
              "1  23.0     N  \n",
              "2  24.0     N  \n",
              "3  24.0     N  \n",
              "4  21.0     N  "
            ],
            "text/html": [
              "\n",
              "  <div id=\"df-1fc7add6-8abd-479a-a627-70cdf4015249\" class=\"colab-df-container\">\n",
              "    <div>\n",
              "<style scoped>\n",
              "    .dataframe tbody tr th:only-of-type {\n",
              "        vertical-align: middle;\n",
              "    }\n",
              "\n",
              "    .dataframe tbody tr th {\n",
              "        vertical-align: top;\n",
              "    }\n",
              "\n",
              "    .dataframe thead th {\n",
              "        text-align: right;\n",
              "    }\n",
              "</style>\n",
              "<table border=\"1\" class=\"dataframe\">\n",
              "  <thead>\n",
              "    <tr style=\"text-align: right;\">\n",
              "      <th></th>\n",
              "      <th>ID</th>\n",
              "      <th>No_Pation</th>\n",
              "      <th>Gender</th>\n",
              "      <th>AGE</th>\n",
              "      <th>Urea</th>\n",
              "      <th>Cr</th>\n",
              "      <th>HbA1c</th>\n",
              "      <th>Chol</th>\n",
              "      <th>TG</th>\n",
              "      <th>HDL</th>\n",
              "      <th>LDL</th>\n",
              "      <th>VLDL</th>\n",
              "      <th>BMI</th>\n",
              "      <th>CLASS</th>\n",
              "    </tr>\n",
              "  </thead>\n",
              "  <tbody>\n",
              "    <tr>\n",
              "      <th>0</th>\n",
              "      <td>502</td>\n",
              "      <td>17975</td>\n",
              "      <td>F</td>\n",
              "      <td>50</td>\n",
              "      <td>4.7</td>\n",
              "      <td>46</td>\n",
              "      <td>4.9</td>\n",
              "      <td>4.2</td>\n",
              "      <td>0.9</td>\n",
              "      <td>2.4</td>\n",
              "      <td>1.4</td>\n",
              "      <td>0.5</td>\n",
              "      <td>24.0</td>\n",
              "      <td>N</td>\n",
              "    </tr>\n",
              "    <tr>\n",
              "      <th>1</th>\n",
              "      <td>735</td>\n",
              "      <td>34221</td>\n",
              "      <td>M</td>\n",
              "      <td>26</td>\n",
              "      <td>4.5</td>\n",
              "      <td>62</td>\n",
              "      <td>4.9</td>\n",
              "      <td>3.7</td>\n",
              "      <td>1.4</td>\n",
              "      <td>1.1</td>\n",
              "      <td>2.1</td>\n",
              "      <td>0.6</td>\n",
              "      <td>23.0</td>\n",
              "      <td>N</td>\n",
              "    </tr>\n",
              "    <tr>\n",
              "      <th>2</th>\n",
              "      <td>420</td>\n",
              "      <td>47975</td>\n",
              "      <td>F</td>\n",
              "      <td>50</td>\n",
              "      <td>4.7</td>\n",
              "      <td>46</td>\n",
              "      <td>4.9</td>\n",
              "      <td>4.2</td>\n",
              "      <td>0.9</td>\n",
              "      <td>2.4</td>\n",
              "      <td>1.4</td>\n",
              "      <td>0.5</td>\n",
              "      <td>24.0</td>\n",
              "      <td>N</td>\n",
              "    </tr>\n",
              "    <tr>\n",
              "      <th>3</th>\n",
              "      <td>680</td>\n",
              "      <td>87656</td>\n",
              "      <td>F</td>\n",
              "      <td>50</td>\n",
              "      <td>4.7</td>\n",
              "      <td>46</td>\n",
              "      <td>4.9</td>\n",
              "      <td>4.2</td>\n",
              "      <td>0.9</td>\n",
              "      <td>2.4</td>\n",
              "      <td>1.4</td>\n",
              "      <td>0.5</td>\n",
              "      <td>24.0</td>\n",
              "      <td>N</td>\n",
              "    </tr>\n",
              "    <tr>\n",
              "      <th>4</th>\n",
              "      <td>504</td>\n",
              "      <td>34223</td>\n",
              "      <td>M</td>\n",
              "      <td>33</td>\n",
              "      <td>7.1</td>\n",
              "      <td>46</td>\n",
              "      <td>4.9</td>\n",
              "      <td>4.9</td>\n",
              "      <td>1.0</td>\n",
              "      <td>0.8</td>\n",
              "      <td>2.0</td>\n",
              "      <td>0.4</td>\n",
              "      <td>21.0</td>\n",
              "      <td>N</td>\n",
              "    </tr>\n",
              "  </tbody>\n",
              "</table>\n",
              "</div>\n",
              "    <div class=\"colab-df-buttons\">\n",
              "\n",
              "  <div class=\"colab-df-container\">\n",
              "    <button class=\"colab-df-convert\" onclick=\"convertToInteractive('df-1fc7add6-8abd-479a-a627-70cdf4015249')\"\n",
              "            title=\"Convert this dataframe to an interactive table.\"\n",
              "            style=\"display:none;\">\n",
              "\n",
              "  <svg xmlns=\"http://www.w3.org/2000/svg\" height=\"24px\" viewBox=\"0 -960 960 960\">\n",
              "    <path d=\"M120-120v-720h720v720H120Zm60-500h600v-160H180v160Zm220 220h160v-160H400v160Zm0 220h160v-160H400v160ZM180-400h160v-160H180v160Zm440 0h160v-160H620v160ZM180-180h160v-160H180v160Zm440 0h160v-160H620v160Z\"/>\n",
              "  </svg>\n",
              "    </button>\n",
              "\n",
              "  <style>\n",
              "    .colab-df-container {\n",
              "      display:flex;\n",
              "      gap: 12px;\n",
              "    }\n",
              "\n",
              "    .colab-df-convert {\n",
              "      background-color: #E8F0FE;\n",
              "      border: none;\n",
              "      border-radius: 50%;\n",
              "      cursor: pointer;\n",
              "      display: none;\n",
              "      fill: #1967D2;\n",
              "      height: 32px;\n",
              "      padding: 0 0 0 0;\n",
              "      width: 32px;\n",
              "    }\n",
              "\n",
              "    .colab-df-convert:hover {\n",
              "      background-color: #E2EBFA;\n",
              "      box-shadow: 0px 1px 2px rgba(60, 64, 67, 0.3), 0px 1px 3px 1px rgba(60, 64, 67, 0.15);\n",
              "      fill: #174EA6;\n",
              "    }\n",
              "\n",
              "    .colab-df-buttons div {\n",
              "      margin-bottom: 4px;\n",
              "    }\n",
              "\n",
              "    [theme=dark] .colab-df-convert {\n",
              "      background-color: #3B4455;\n",
              "      fill: #D2E3FC;\n",
              "    }\n",
              "\n",
              "    [theme=dark] .colab-df-convert:hover {\n",
              "      background-color: #434B5C;\n",
              "      box-shadow: 0px 1px 3px 1px rgba(0, 0, 0, 0.15);\n",
              "      filter: drop-shadow(0px 1px 2px rgba(0, 0, 0, 0.3));\n",
              "      fill: #FFFFFF;\n",
              "    }\n",
              "  </style>\n",
              "\n",
              "    <script>\n",
              "      const buttonEl =\n",
              "        document.querySelector('#df-1fc7add6-8abd-479a-a627-70cdf4015249 button.colab-df-convert');\n",
              "      buttonEl.style.display =\n",
              "        google.colab.kernel.accessAllowed ? 'block' : 'none';\n",
              "\n",
              "      async function convertToInteractive(key) {\n",
              "        const element = document.querySelector('#df-1fc7add6-8abd-479a-a627-70cdf4015249');\n",
              "        const dataTable =\n",
              "          await google.colab.kernel.invokeFunction('convertToInteractive',\n",
              "                                                    [key], {});\n",
              "        if (!dataTable) return;\n",
              "\n",
              "        const docLinkHtml = 'Like what you see? Visit the ' +\n",
              "          '<a target=\"_blank\" href=https://colab.research.google.com/notebooks/data_table.ipynb>data table notebook</a>'\n",
              "          + ' to learn more about interactive tables.';\n",
              "        element.innerHTML = '';\n",
              "        dataTable['output_type'] = 'display_data';\n",
              "        await google.colab.output.renderOutput(dataTable, element);\n",
              "        const docLink = document.createElement('div');\n",
              "        docLink.innerHTML = docLinkHtml;\n",
              "        element.appendChild(docLink);\n",
              "      }\n",
              "    </script>\n",
              "  </div>\n",
              "\n",
              "\n",
              "    <div id=\"df-4d388779-2e82-4dbc-89ba-f2a4738f8f2c\">\n",
              "      <button class=\"colab-df-quickchart\" onclick=\"quickchart('df-4d388779-2e82-4dbc-89ba-f2a4738f8f2c')\"\n",
              "                title=\"Suggest charts\"\n",
              "                style=\"display:none;\">\n",
              "\n",
              "<svg xmlns=\"http://www.w3.org/2000/svg\" height=\"24px\"viewBox=\"0 0 24 24\"\n",
              "     width=\"24px\">\n",
              "    <g>\n",
              "        <path d=\"M19 3H5c-1.1 0-2 .9-2 2v14c0 1.1.9 2 2 2h14c1.1 0 2-.9 2-2V5c0-1.1-.9-2-2-2zM9 17H7v-7h2v7zm4 0h-2V7h2v10zm4 0h-2v-4h2v4z\"/>\n",
              "    </g>\n",
              "</svg>\n",
              "      </button>\n",
              "\n",
              "<style>\n",
              "  .colab-df-quickchart {\n",
              "      --bg-color: #E8F0FE;\n",
              "      --fill-color: #1967D2;\n",
              "      --hover-bg-color: #E2EBFA;\n",
              "      --hover-fill-color: #174EA6;\n",
              "      --disabled-fill-color: #AAA;\n",
              "      --disabled-bg-color: #DDD;\n",
              "  }\n",
              "\n",
              "  [theme=dark] .colab-df-quickchart {\n",
              "      --bg-color: #3B4455;\n",
              "      --fill-color: #D2E3FC;\n",
              "      --hover-bg-color: #434B5C;\n",
              "      --hover-fill-color: #FFFFFF;\n",
              "      --disabled-bg-color: #3B4455;\n",
              "      --disabled-fill-color: #666;\n",
              "  }\n",
              "\n",
              "  .colab-df-quickchart {\n",
              "    background-color: var(--bg-color);\n",
              "    border: none;\n",
              "    border-radius: 50%;\n",
              "    cursor: pointer;\n",
              "    display: none;\n",
              "    fill: var(--fill-color);\n",
              "    height: 32px;\n",
              "    padding: 0;\n",
              "    width: 32px;\n",
              "  }\n",
              "\n",
              "  .colab-df-quickchart:hover {\n",
              "    background-color: var(--hover-bg-color);\n",
              "    box-shadow: 0 1px 2px rgba(60, 64, 67, 0.3), 0 1px 3px 1px rgba(60, 64, 67, 0.15);\n",
              "    fill: var(--button-hover-fill-color);\n",
              "  }\n",
              "\n",
              "  .colab-df-quickchart-complete:disabled,\n",
              "  .colab-df-quickchart-complete:disabled:hover {\n",
              "    background-color: var(--disabled-bg-color);\n",
              "    fill: var(--disabled-fill-color);\n",
              "    box-shadow: none;\n",
              "  }\n",
              "\n",
              "  .colab-df-spinner {\n",
              "    border: 2px solid var(--fill-color);\n",
              "    border-color: transparent;\n",
              "    border-bottom-color: var(--fill-color);\n",
              "    animation:\n",
              "      spin 1s steps(1) infinite;\n",
              "  }\n",
              "\n",
              "  @keyframes spin {\n",
              "    0% {\n",
              "      border-color: transparent;\n",
              "      border-bottom-color: var(--fill-color);\n",
              "      border-left-color: var(--fill-color);\n",
              "    }\n",
              "    20% {\n",
              "      border-color: transparent;\n",
              "      border-left-color: var(--fill-color);\n",
              "      border-top-color: var(--fill-color);\n",
              "    }\n",
              "    30% {\n",
              "      border-color: transparent;\n",
              "      border-left-color: var(--fill-color);\n",
              "      border-top-color: var(--fill-color);\n",
              "      border-right-color: var(--fill-color);\n",
              "    }\n",
              "    40% {\n",
              "      border-color: transparent;\n",
              "      border-right-color: var(--fill-color);\n",
              "      border-top-color: var(--fill-color);\n",
              "    }\n",
              "    60% {\n",
              "      border-color: transparent;\n",
              "      border-right-color: var(--fill-color);\n",
              "    }\n",
              "    80% {\n",
              "      border-color: transparent;\n",
              "      border-right-color: var(--fill-color);\n",
              "      border-bottom-color: var(--fill-color);\n",
              "    }\n",
              "    90% {\n",
              "      border-color: transparent;\n",
              "      border-bottom-color: var(--fill-color);\n",
              "    }\n",
              "  }\n",
              "</style>\n",
              "\n",
              "      <script>\n",
              "        async function quickchart(key) {\n",
              "          const quickchartButtonEl =\n",
              "            document.querySelector('#' + key + ' button');\n",
              "          quickchartButtonEl.disabled = true;  // To prevent multiple clicks.\n",
              "          quickchartButtonEl.classList.add('colab-df-spinner');\n",
              "          try {\n",
              "            const charts = await google.colab.kernel.invokeFunction(\n",
              "                'suggestCharts', [key], {});\n",
              "          } catch (error) {\n",
              "            console.error('Error during call to suggestCharts:', error);\n",
              "          }\n",
              "          quickchartButtonEl.classList.remove('colab-df-spinner');\n",
              "          quickchartButtonEl.classList.add('colab-df-quickchart-complete');\n",
              "        }\n",
              "        (() => {\n",
              "          let quickchartButtonEl =\n",
              "            document.querySelector('#df-4d388779-2e82-4dbc-89ba-f2a4738f8f2c button');\n",
              "          quickchartButtonEl.style.display =\n",
              "            google.colab.kernel.accessAllowed ? 'block' : 'none';\n",
              "        })();\n",
              "      </script>\n",
              "    </div>\n",
              "\n",
              "    </div>\n",
              "  </div>\n"
            ],
            "application/vnd.google.colaboratory.intrinsic+json": {
              "type": "dataframe",
              "variable_name": "df",
              "summary": "{\n  \"name\": \"df\",\n  \"rows\": 1000,\n  \"fields\": [\n    {\n      \"column\": \"ID\",\n      \"properties\": {\n        \"dtype\": \"number\",\n        \"std\": 240,\n        \"min\": 1,\n        \"max\": 800,\n        \"num_unique_values\": 800,\n        \"samples\": [\n          537,\n          745,\n          7\n        ],\n        \"semantic_type\": \"\",\n        \"description\": \"\"\n      }\n    },\n    {\n      \"column\": \"No_Pation\",\n      \"properties\": {\n        \"dtype\": \"number\",\n        \"std\": 3380757,\n        \"min\": 123,\n        \"max\": 75435657,\n        \"num_unique_values\": 961,\n        \"samples\": [\n          24089,\n          24105,\n          34348\n        ],\n        \"semantic_type\": \"\",\n        \"description\": \"\"\n      }\n    },\n    {\n      \"column\": \"Gender\",\n      \"properties\": {\n        \"dtype\": \"category\",\n        \"num_unique_values\": 3,\n        \"samples\": [\n          \"F\",\n          \"M\",\n          \"f\"\n        ],\n        \"semantic_type\": \"\",\n        \"description\": \"\"\n      }\n    },\n    {\n      \"column\": \"AGE\",\n      \"properties\": {\n        \"dtype\": \"number\",\n        \"std\": 8,\n        \"min\": 20,\n        \"max\": 79,\n        \"num_unique_values\": 50,\n        \"samples\": [\n          44,\n          68,\n          28\n        ],\n        \"semantic_type\": \"\",\n        \"description\": \"\"\n      }\n    },\n    {\n      \"column\": \"Urea\",\n      \"properties\": {\n        \"dtype\": \"number\",\n        \"std\": 2.935165441524571,\n        \"min\": 0.5,\n        \"max\": 38.9,\n        \"num_unique_values\": 110,\n        \"samples\": [\n          10.4,\n          4.6,\n          2.0\n        ],\n        \"semantic_type\": \"\",\n        \"description\": \"\"\n      }\n    },\n    {\n      \"column\": \"Cr\",\n      \"properties\": {\n        \"dtype\": \"number\",\n        \"std\": 59,\n        \"min\": 6,\n        \"max\": 800,\n        \"num_unique_values\": 113,\n        \"samples\": [\n          41,\n          47,\n          97\n        ],\n        \"semantic_type\": \"\",\n        \"description\": \"\"\n      }\n    },\n    {\n      \"column\": \"HbA1c\",\n      \"properties\": {\n        \"dtype\": \"number\",\n        \"std\": 2.534003122773578,\n        \"min\": 0.9,\n        \"max\": 16.0,\n        \"num_unique_values\": 111,\n        \"samples\": [\n          10.0,\n          4.3,\n          5.1\n        ],\n        \"semantic_type\": \"\",\n        \"description\": \"\"\n      }\n    },\n    {\n      \"column\": \"Chol\",\n      \"properties\": {\n        \"dtype\": \"number\",\n        \"std\": 1.3017375189216032,\n        \"min\": 0.0,\n        \"max\": 10.3,\n        \"num_unique_values\": 77,\n        \"samples\": [\n          3.6,\n          2.1,\n          0.5\n        ],\n        \"semantic_type\": \"\",\n        \"description\": \"\"\n      }\n    },\n    {\n      \"column\": \"TG\",\n      \"properties\": {\n        \"dtype\": \"number\",\n        \"std\": 1.4011760211130313,\n        \"min\": 0.3,\n        \"max\": 13.8,\n        \"num_unique_values\": 69,\n        \"samples\": [\n          2.7,\n          0.9,\n          3.6\n        ],\n        \"semantic_type\": \"\",\n        \"description\": \"\"\n      }\n    },\n    {\n      \"column\": \"HDL\",\n      \"properties\": {\n        \"dtype\": \"number\",\n        \"std\": 0.6604135701085987,\n        \"min\": 0.2,\n        \"max\": 9.9,\n        \"num_unique_values\": 48,\n        \"samples\": [\n          1.08,\n          0.2,\n          6.6\n        ],\n        \"semantic_type\": \"\",\n        \"description\": \"\"\n      }\n    },\n    {\n      \"column\": \"LDL\",\n      \"properties\": {\n        \"dtype\": \"number\",\n        \"std\": 1.1151017477377607,\n        \"min\": 0.3,\n        \"max\": 9.9,\n        \"num_unique_values\": 65,\n        \"samples\": [\n          0.96,\n          1.04,\n          1.4\n        ],\n        \"semantic_type\": \"\",\n        \"description\": \"\"\n      }\n    },\n    {\n      \"column\": \"VLDL\",\n      \"properties\": {\n        \"dtype\": \"number\",\n        \"std\": 3.663599305310278,\n        \"min\": 0.1,\n        \"max\": 35.0,\n        \"num_unique_values\": 60,\n        \"samples\": [\n          0.5,\n          0.8,\n          2.2\n        ],\n        \"semantic_type\": \"\",\n        \"description\": \"\"\n      }\n    },\n    {\n      \"column\": \"BMI\",\n      \"properties\": {\n        \"dtype\": \"number\",\n        \"std\": 4.962388112126585,\n        \"min\": 19.0,\n        \"max\": 47.75,\n        \"num_unique_values\": 64,\n        \"samples\": [\n          36.11,\n          37.62,\n          24.0\n        ],\n        \"semantic_type\": \"\",\n        \"description\": \"\"\n      }\n    },\n    {\n      \"column\": \"CLASS\",\n      \"properties\": {\n        \"dtype\": \"category\",\n        \"num_unique_values\": 5,\n        \"samples\": [\n          \"N \",\n          \"Y \",\n          \"P\"\n        ],\n        \"semantic_type\": \"\",\n        \"description\": \"\"\n      }\n    }\n  ]\n}"
            }
          },
          "metadata": {},
          "execution_count": 144
        }
      ]
    },
    {
      "cell_type": "markdown",
      "source": [
        "###Análise Exploratória\n",
        "<p>Verificar se há dados faltantes e registrar os dados relevantes para classificação"
      ],
      "metadata": {
        "id": "4ZNTWHqwUu9F"
      }
    },
    {
      "cell_type": "markdown",
      "source": [],
      "metadata": {
        "id": "rqT4dwnOU3CY"
      }
    },
    {
      "source": [
        "print(\"Dados faltantes por coluna:\")\n",
        "df.info()"
      ],
      "cell_type": "code",
      "metadata": {
        "colab": {
          "base_uri": "https://localhost:8080/"
        },
        "id": "TazdyqNNOXoo",
        "outputId": "a6efb1d2-cc39-41a6-ca53-3ce377c3f108"
      },
      "execution_count": 145,
      "outputs": [
        {
          "output_type": "stream",
          "name": "stdout",
          "text": [
            "Dados faltantes por coluna:\n",
            "<class 'pandas.core.frame.DataFrame'>\n",
            "RangeIndex: 1000 entries, 0 to 999\n",
            "Data columns (total 14 columns):\n",
            " #   Column     Non-Null Count  Dtype  \n",
            "---  ------     --------------  -----  \n",
            " 0   ID         1000 non-null   int64  \n",
            " 1   No_Pation  1000 non-null   int64  \n",
            " 2   Gender     1000 non-null   object \n",
            " 3   AGE        1000 non-null   int64  \n",
            " 4   Urea       1000 non-null   float64\n",
            " 5   Cr         1000 non-null   int64  \n",
            " 6   HbA1c      1000 non-null   float64\n",
            " 7   Chol       1000 non-null   float64\n",
            " 8   TG         1000 non-null   float64\n",
            " 9   HDL        1000 non-null   float64\n",
            " 10  LDL        1000 non-null   float64\n",
            " 11  VLDL       1000 non-null   float64\n",
            " 12  BMI        1000 non-null   float64\n",
            " 13  CLASS      1000 non-null   object \n",
            "dtypes: float64(8), int64(4), object(2)\n",
            "memory usage: 109.5+ KB\n"
          ]
        }
      ]
    },
    {
      "cell_type": "markdown",
      "source": [],
      "metadata": {
        "id": "iDnclYmvVRWz"
      }
    },
    {
      "cell_type": "markdown",
      "source": [
        "É possível notar que não há dados faltantes e nem duplicatas"
      ],
      "metadata": {
        "id": "trqjVVAiVMml"
      }
    },
    {
      "cell_type": "code",
      "source": [
        "print(df.isnull().sum())\n",
        "print(df.duplicated().sum())"
      ],
      "metadata": {
        "colab": {
          "base_uri": "https://localhost:8080/"
        },
        "id": "YrGCd2itVLQs",
        "outputId": "b064415c-8ae0-4574-cad2-2b8b77f9d33c"
      },
      "execution_count": 146,
      "outputs": [
        {
          "output_type": "stream",
          "name": "stdout",
          "text": [
            "ID           0\n",
            "No_Pation    0\n",
            "Gender       0\n",
            "AGE          0\n",
            "Urea         0\n",
            "Cr           0\n",
            "HbA1c        0\n",
            "Chol         0\n",
            "TG           0\n",
            "HDL          0\n",
            "LDL          0\n",
            "VLDL         0\n",
            "BMI          0\n",
            "CLASS        0\n",
            "dtype: int64\n",
            "0\n"
          ]
        }
      ]
    },
    {
      "cell_type": "markdown",
      "source": [
        "###Conversão de dados categóricos em numéricos"
      ],
      "metadata": {
        "id": "RcgoTgJ5VflL"
      }
    },
    {
      "cell_type": "code",
      "source": [
        "df[\"Gender\"] = df[\"Gender\"].map({\"M\": 0, \"F\": 1})\n",
        "df[\"CLASS\"] = df[\"CLASS\"].map({\"N\": 0, \"P\": 1})\n",
        "df.head()"
      ],
      "metadata": {
        "colab": {
          "base_uri": "https://localhost:8080/",
          "height": 206
        },
        "id": "4jMy-E5zViob",
        "outputId": "91d151eb-79cf-4612-97dd-cc2d1728f404"
      },
      "execution_count": 147,
      "outputs": [
        {
          "output_type": "execute_result",
          "data": {
            "text/plain": [
              "    ID  No_Pation  Gender  AGE  Urea  Cr  HbA1c  Chol   TG  HDL  LDL  VLDL  \\\n",
              "0  502      17975     1.0   50   4.7  46    4.9   4.2  0.9  2.4  1.4   0.5   \n",
              "1  735      34221     0.0   26   4.5  62    4.9   3.7  1.4  1.1  2.1   0.6   \n",
              "2  420      47975     1.0   50   4.7  46    4.9   4.2  0.9  2.4  1.4   0.5   \n",
              "3  680      87656     1.0   50   4.7  46    4.9   4.2  0.9  2.4  1.4   0.5   \n",
              "4  504      34223     0.0   33   7.1  46    4.9   4.9  1.0  0.8  2.0   0.4   \n",
              "\n",
              "    BMI  CLASS  \n",
              "0  24.0    0.0  \n",
              "1  23.0    0.0  \n",
              "2  24.0    0.0  \n",
              "3  24.0    0.0  \n",
              "4  21.0    0.0  "
            ],
            "text/html": [
              "\n",
              "  <div id=\"df-203913ec-d9a1-432f-a8a1-ccdd8cc0526a\" class=\"colab-df-container\">\n",
              "    <div>\n",
              "<style scoped>\n",
              "    .dataframe tbody tr th:only-of-type {\n",
              "        vertical-align: middle;\n",
              "    }\n",
              "\n",
              "    .dataframe tbody tr th {\n",
              "        vertical-align: top;\n",
              "    }\n",
              "\n",
              "    .dataframe thead th {\n",
              "        text-align: right;\n",
              "    }\n",
              "</style>\n",
              "<table border=\"1\" class=\"dataframe\">\n",
              "  <thead>\n",
              "    <tr style=\"text-align: right;\">\n",
              "      <th></th>\n",
              "      <th>ID</th>\n",
              "      <th>No_Pation</th>\n",
              "      <th>Gender</th>\n",
              "      <th>AGE</th>\n",
              "      <th>Urea</th>\n",
              "      <th>Cr</th>\n",
              "      <th>HbA1c</th>\n",
              "      <th>Chol</th>\n",
              "      <th>TG</th>\n",
              "      <th>HDL</th>\n",
              "      <th>LDL</th>\n",
              "      <th>VLDL</th>\n",
              "      <th>BMI</th>\n",
              "      <th>CLASS</th>\n",
              "    </tr>\n",
              "  </thead>\n",
              "  <tbody>\n",
              "    <tr>\n",
              "      <th>0</th>\n",
              "      <td>502</td>\n",
              "      <td>17975</td>\n",
              "      <td>1.0</td>\n",
              "      <td>50</td>\n",
              "      <td>4.7</td>\n",
              "      <td>46</td>\n",
              "      <td>4.9</td>\n",
              "      <td>4.2</td>\n",
              "      <td>0.9</td>\n",
              "      <td>2.4</td>\n",
              "      <td>1.4</td>\n",
              "      <td>0.5</td>\n",
              "      <td>24.0</td>\n",
              "      <td>0.0</td>\n",
              "    </tr>\n",
              "    <tr>\n",
              "      <th>1</th>\n",
              "      <td>735</td>\n",
              "      <td>34221</td>\n",
              "      <td>0.0</td>\n",
              "      <td>26</td>\n",
              "      <td>4.5</td>\n",
              "      <td>62</td>\n",
              "      <td>4.9</td>\n",
              "      <td>3.7</td>\n",
              "      <td>1.4</td>\n",
              "      <td>1.1</td>\n",
              "      <td>2.1</td>\n",
              "      <td>0.6</td>\n",
              "      <td>23.0</td>\n",
              "      <td>0.0</td>\n",
              "    </tr>\n",
              "    <tr>\n",
              "      <th>2</th>\n",
              "      <td>420</td>\n",
              "      <td>47975</td>\n",
              "      <td>1.0</td>\n",
              "      <td>50</td>\n",
              "      <td>4.7</td>\n",
              "      <td>46</td>\n",
              "      <td>4.9</td>\n",
              "      <td>4.2</td>\n",
              "      <td>0.9</td>\n",
              "      <td>2.4</td>\n",
              "      <td>1.4</td>\n",
              "      <td>0.5</td>\n",
              "      <td>24.0</td>\n",
              "      <td>0.0</td>\n",
              "    </tr>\n",
              "    <tr>\n",
              "      <th>3</th>\n",
              "      <td>680</td>\n",
              "      <td>87656</td>\n",
              "      <td>1.0</td>\n",
              "      <td>50</td>\n",
              "      <td>4.7</td>\n",
              "      <td>46</td>\n",
              "      <td>4.9</td>\n",
              "      <td>4.2</td>\n",
              "      <td>0.9</td>\n",
              "      <td>2.4</td>\n",
              "      <td>1.4</td>\n",
              "      <td>0.5</td>\n",
              "      <td>24.0</td>\n",
              "      <td>0.0</td>\n",
              "    </tr>\n",
              "    <tr>\n",
              "      <th>4</th>\n",
              "      <td>504</td>\n",
              "      <td>34223</td>\n",
              "      <td>0.0</td>\n",
              "      <td>33</td>\n",
              "      <td>7.1</td>\n",
              "      <td>46</td>\n",
              "      <td>4.9</td>\n",
              "      <td>4.9</td>\n",
              "      <td>1.0</td>\n",
              "      <td>0.8</td>\n",
              "      <td>2.0</td>\n",
              "      <td>0.4</td>\n",
              "      <td>21.0</td>\n",
              "      <td>0.0</td>\n",
              "    </tr>\n",
              "  </tbody>\n",
              "</table>\n",
              "</div>\n",
              "    <div class=\"colab-df-buttons\">\n",
              "\n",
              "  <div class=\"colab-df-container\">\n",
              "    <button class=\"colab-df-convert\" onclick=\"convertToInteractive('df-203913ec-d9a1-432f-a8a1-ccdd8cc0526a')\"\n",
              "            title=\"Convert this dataframe to an interactive table.\"\n",
              "            style=\"display:none;\">\n",
              "\n",
              "  <svg xmlns=\"http://www.w3.org/2000/svg\" height=\"24px\" viewBox=\"0 -960 960 960\">\n",
              "    <path d=\"M120-120v-720h720v720H120Zm60-500h600v-160H180v160Zm220 220h160v-160H400v160Zm0 220h160v-160H400v160ZM180-400h160v-160H180v160Zm440 0h160v-160H620v160ZM180-180h160v-160H180v160Zm440 0h160v-160H620v160Z\"/>\n",
              "  </svg>\n",
              "    </button>\n",
              "\n",
              "  <style>\n",
              "    .colab-df-container {\n",
              "      display:flex;\n",
              "      gap: 12px;\n",
              "    }\n",
              "\n",
              "    .colab-df-convert {\n",
              "      background-color: #E8F0FE;\n",
              "      border: none;\n",
              "      border-radius: 50%;\n",
              "      cursor: pointer;\n",
              "      display: none;\n",
              "      fill: #1967D2;\n",
              "      height: 32px;\n",
              "      padding: 0 0 0 0;\n",
              "      width: 32px;\n",
              "    }\n",
              "\n",
              "    .colab-df-convert:hover {\n",
              "      background-color: #E2EBFA;\n",
              "      box-shadow: 0px 1px 2px rgba(60, 64, 67, 0.3), 0px 1px 3px 1px rgba(60, 64, 67, 0.15);\n",
              "      fill: #174EA6;\n",
              "    }\n",
              "\n",
              "    .colab-df-buttons div {\n",
              "      margin-bottom: 4px;\n",
              "    }\n",
              "\n",
              "    [theme=dark] .colab-df-convert {\n",
              "      background-color: #3B4455;\n",
              "      fill: #D2E3FC;\n",
              "    }\n",
              "\n",
              "    [theme=dark] .colab-df-convert:hover {\n",
              "      background-color: #434B5C;\n",
              "      box-shadow: 0px 1px 3px 1px rgba(0, 0, 0, 0.15);\n",
              "      filter: drop-shadow(0px 1px 2px rgba(0, 0, 0, 0.3));\n",
              "      fill: #FFFFFF;\n",
              "    }\n",
              "  </style>\n",
              "\n",
              "    <script>\n",
              "      const buttonEl =\n",
              "        document.querySelector('#df-203913ec-d9a1-432f-a8a1-ccdd8cc0526a button.colab-df-convert');\n",
              "      buttonEl.style.display =\n",
              "        google.colab.kernel.accessAllowed ? 'block' : 'none';\n",
              "\n",
              "      async function convertToInteractive(key) {\n",
              "        const element = document.querySelector('#df-203913ec-d9a1-432f-a8a1-ccdd8cc0526a');\n",
              "        const dataTable =\n",
              "          await google.colab.kernel.invokeFunction('convertToInteractive',\n",
              "                                                    [key], {});\n",
              "        if (!dataTable) return;\n",
              "\n",
              "        const docLinkHtml = 'Like what you see? Visit the ' +\n",
              "          '<a target=\"_blank\" href=https://colab.research.google.com/notebooks/data_table.ipynb>data table notebook</a>'\n",
              "          + ' to learn more about interactive tables.';\n",
              "        element.innerHTML = '';\n",
              "        dataTable['output_type'] = 'display_data';\n",
              "        await google.colab.output.renderOutput(dataTable, element);\n",
              "        const docLink = document.createElement('div');\n",
              "        docLink.innerHTML = docLinkHtml;\n",
              "        element.appendChild(docLink);\n",
              "      }\n",
              "    </script>\n",
              "  </div>\n",
              "\n",
              "\n",
              "    <div id=\"df-99cb1d79-8bdb-4840-b702-2ae0f5940591\">\n",
              "      <button class=\"colab-df-quickchart\" onclick=\"quickchart('df-99cb1d79-8bdb-4840-b702-2ae0f5940591')\"\n",
              "                title=\"Suggest charts\"\n",
              "                style=\"display:none;\">\n",
              "\n",
              "<svg xmlns=\"http://www.w3.org/2000/svg\" height=\"24px\"viewBox=\"0 0 24 24\"\n",
              "     width=\"24px\">\n",
              "    <g>\n",
              "        <path d=\"M19 3H5c-1.1 0-2 .9-2 2v14c0 1.1.9 2 2 2h14c1.1 0 2-.9 2-2V5c0-1.1-.9-2-2-2zM9 17H7v-7h2v7zm4 0h-2V7h2v10zm4 0h-2v-4h2v4z\"/>\n",
              "    </g>\n",
              "</svg>\n",
              "      </button>\n",
              "\n",
              "<style>\n",
              "  .colab-df-quickchart {\n",
              "      --bg-color: #E8F0FE;\n",
              "      --fill-color: #1967D2;\n",
              "      --hover-bg-color: #E2EBFA;\n",
              "      --hover-fill-color: #174EA6;\n",
              "      --disabled-fill-color: #AAA;\n",
              "      --disabled-bg-color: #DDD;\n",
              "  }\n",
              "\n",
              "  [theme=dark] .colab-df-quickchart {\n",
              "      --bg-color: #3B4455;\n",
              "      --fill-color: #D2E3FC;\n",
              "      --hover-bg-color: #434B5C;\n",
              "      --hover-fill-color: #FFFFFF;\n",
              "      --disabled-bg-color: #3B4455;\n",
              "      --disabled-fill-color: #666;\n",
              "  }\n",
              "\n",
              "  .colab-df-quickchart {\n",
              "    background-color: var(--bg-color);\n",
              "    border: none;\n",
              "    border-radius: 50%;\n",
              "    cursor: pointer;\n",
              "    display: none;\n",
              "    fill: var(--fill-color);\n",
              "    height: 32px;\n",
              "    padding: 0;\n",
              "    width: 32px;\n",
              "  }\n",
              "\n",
              "  .colab-df-quickchart:hover {\n",
              "    background-color: var(--hover-bg-color);\n",
              "    box-shadow: 0 1px 2px rgba(60, 64, 67, 0.3), 0 1px 3px 1px rgba(60, 64, 67, 0.15);\n",
              "    fill: var(--button-hover-fill-color);\n",
              "  }\n",
              "\n",
              "  .colab-df-quickchart-complete:disabled,\n",
              "  .colab-df-quickchart-complete:disabled:hover {\n",
              "    background-color: var(--disabled-bg-color);\n",
              "    fill: var(--disabled-fill-color);\n",
              "    box-shadow: none;\n",
              "  }\n",
              "\n",
              "  .colab-df-spinner {\n",
              "    border: 2px solid var(--fill-color);\n",
              "    border-color: transparent;\n",
              "    border-bottom-color: var(--fill-color);\n",
              "    animation:\n",
              "      spin 1s steps(1) infinite;\n",
              "  }\n",
              "\n",
              "  @keyframes spin {\n",
              "    0% {\n",
              "      border-color: transparent;\n",
              "      border-bottom-color: var(--fill-color);\n",
              "      border-left-color: var(--fill-color);\n",
              "    }\n",
              "    20% {\n",
              "      border-color: transparent;\n",
              "      border-left-color: var(--fill-color);\n",
              "      border-top-color: var(--fill-color);\n",
              "    }\n",
              "    30% {\n",
              "      border-color: transparent;\n",
              "      border-left-color: var(--fill-color);\n",
              "      border-top-color: var(--fill-color);\n",
              "      border-right-color: var(--fill-color);\n",
              "    }\n",
              "    40% {\n",
              "      border-color: transparent;\n",
              "      border-right-color: var(--fill-color);\n",
              "      border-top-color: var(--fill-color);\n",
              "    }\n",
              "    60% {\n",
              "      border-color: transparent;\n",
              "      border-right-color: var(--fill-color);\n",
              "    }\n",
              "    80% {\n",
              "      border-color: transparent;\n",
              "      border-right-color: var(--fill-color);\n",
              "      border-bottom-color: var(--fill-color);\n",
              "    }\n",
              "    90% {\n",
              "      border-color: transparent;\n",
              "      border-bottom-color: var(--fill-color);\n",
              "    }\n",
              "  }\n",
              "</style>\n",
              "\n",
              "      <script>\n",
              "        async function quickchart(key) {\n",
              "          const quickchartButtonEl =\n",
              "            document.querySelector('#' + key + ' button');\n",
              "          quickchartButtonEl.disabled = true;  // To prevent multiple clicks.\n",
              "          quickchartButtonEl.classList.add('colab-df-spinner');\n",
              "          try {\n",
              "            const charts = await google.colab.kernel.invokeFunction(\n",
              "                'suggestCharts', [key], {});\n",
              "          } catch (error) {\n",
              "            console.error('Error during call to suggestCharts:', error);\n",
              "          }\n",
              "          quickchartButtonEl.classList.remove('colab-df-spinner');\n",
              "          quickchartButtonEl.classList.add('colab-df-quickchart-complete');\n",
              "        }\n",
              "        (() => {\n",
              "          let quickchartButtonEl =\n",
              "            document.querySelector('#df-99cb1d79-8bdb-4840-b702-2ae0f5940591 button');\n",
              "          quickchartButtonEl.style.display =\n",
              "            google.colab.kernel.accessAllowed ? 'block' : 'none';\n",
              "        })();\n",
              "      </script>\n",
              "    </div>\n",
              "\n",
              "    </div>\n",
              "  </div>\n"
            ],
            "application/vnd.google.colaboratory.intrinsic+json": {
              "type": "dataframe",
              "variable_name": "df",
              "summary": "{\n  \"name\": \"df\",\n  \"rows\": 1000,\n  \"fields\": [\n    {\n      \"column\": \"ID\",\n      \"properties\": {\n        \"dtype\": \"number\",\n        \"std\": 240,\n        \"min\": 1,\n        \"max\": 800,\n        \"num_unique_values\": 800,\n        \"samples\": [\n          537,\n          745,\n          7\n        ],\n        \"semantic_type\": \"\",\n        \"description\": \"\"\n      }\n    },\n    {\n      \"column\": \"No_Pation\",\n      \"properties\": {\n        \"dtype\": \"number\",\n        \"std\": 3380757,\n        \"min\": 123,\n        \"max\": 75435657,\n        \"num_unique_values\": 961,\n        \"samples\": [\n          24089,\n          24105,\n          34348\n        ],\n        \"semantic_type\": \"\",\n        \"description\": \"\"\n      }\n    },\n    {\n      \"column\": \"Gender\",\n      \"properties\": {\n        \"dtype\": \"number\",\n        \"std\": 0.49593079169957205,\n        \"min\": 0.0,\n        \"max\": 1.0,\n        \"num_unique_values\": 2,\n        \"samples\": [\n          0.0,\n          1.0\n        ],\n        \"semantic_type\": \"\",\n        \"description\": \"\"\n      }\n    },\n    {\n      \"column\": \"AGE\",\n      \"properties\": {\n        \"dtype\": \"number\",\n        \"std\": 8,\n        \"min\": 20,\n        \"max\": 79,\n        \"num_unique_values\": 50,\n        \"samples\": [\n          44,\n          68\n        ],\n        \"semantic_type\": \"\",\n        \"description\": \"\"\n      }\n    },\n    {\n      \"column\": \"Urea\",\n      \"properties\": {\n        \"dtype\": \"number\",\n        \"std\": 2.935165441524571,\n        \"min\": 0.5,\n        \"max\": 38.9,\n        \"num_unique_values\": 110,\n        \"samples\": [\n          10.4,\n          4.6\n        ],\n        \"semantic_type\": \"\",\n        \"description\": \"\"\n      }\n    },\n    {\n      \"column\": \"Cr\",\n      \"properties\": {\n        \"dtype\": \"number\",\n        \"std\": 59,\n        \"min\": 6,\n        \"max\": 800,\n        \"num_unique_values\": 113,\n        \"samples\": [\n          41,\n          47\n        ],\n        \"semantic_type\": \"\",\n        \"description\": \"\"\n      }\n    },\n    {\n      \"column\": \"HbA1c\",\n      \"properties\": {\n        \"dtype\": \"number\",\n        \"std\": 2.534003122773578,\n        \"min\": 0.9,\n        \"max\": 16.0,\n        \"num_unique_values\": 111,\n        \"samples\": [\n          10.0,\n          4.3\n        ],\n        \"semantic_type\": \"\",\n        \"description\": \"\"\n      }\n    },\n    {\n      \"column\": \"Chol\",\n      \"properties\": {\n        \"dtype\": \"number\",\n        \"std\": 1.3017375189216032,\n        \"min\": 0.0,\n        \"max\": 10.3,\n        \"num_unique_values\": 77,\n        \"samples\": [\n          3.6,\n          2.1\n        ],\n        \"semantic_type\": \"\",\n        \"description\": \"\"\n      }\n    },\n    {\n      \"column\": \"TG\",\n      \"properties\": {\n        \"dtype\": \"number\",\n        \"std\": 1.4011760211130313,\n        \"min\": 0.3,\n        \"max\": 13.8,\n        \"num_unique_values\": 69,\n        \"samples\": [\n          2.7,\n          0.9\n        ],\n        \"semantic_type\": \"\",\n        \"description\": \"\"\n      }\n    },\n    {\n      \"column\": \"HDL\",\n      \"properties\": {\n        \"dtype\": \"number\",\n        \"std\": 0.6604135701085987,\n        \"min\": 0.2,\n        \"max\": 9.9,\n        \"num_unique_values\": 48,\n        \"samples\": [\n          1.08,\n          0.2\n        ],\n        \"semantic_type\": \"\",\n        \"description\": \"\"\n      }\n    },\n    {\n      \"column\": \"LDL\",\n      \"properties\": {\n        \"dtype\": \"number\",\n        \"std\": 1.1151017477377607,\n        \"min\": 0.3,\n        \"max\": 9.9,\n        \"num_unique_values\": 65,\n        \"samples\": [\n          0.96,\n          1.04\n        ],\n        \"semantic_type\": \"\",\n        \"description\": \"\"\n      }\n    },\n    {\n      \"column\": \"VLDL\",\n      \"properties\": {\n        \"dtype\": \"number\",\n        \"std\": 3.663599305310278,\n        \"min\": 0.1,\n        \"max\": 35.0,\n        \"num_unique_values\": 60,\n        \"samples\": [\n          0.5,\n          0.8\n        ],\n        \"semantic_type\": \"\",\n        \"description\": \"\"\n      }\n    },\n    {\n      \"column\": \"BMI\",\n      \"properties\": {\n        \"dtype\": \"number\",\n        \"std\": 4.962388112126585,\n        \"min\": 19.0,\n        \"max\": 47.75,\n        \"num_unique_values\": 64,\n        \"samples\": [\n          36.11,\n          37.62\n        ],\n        \"semantic_type\": \"\",\n        \"description\": \"\"\n      }\n    },\n    {\n      \"column\": \"CLASS\",\n      \"properties\": {\n        \"dtype\": \"number\",\n        \"std\": 0.47589573338851676,\n        \"min\": 0.0,\n        \"max\": 1.0,\n        \"num_unique_values\": 2,\n        \"samples\": [\n          1.0,\n          0.0\n        ],\n        \"semantic_type\": \"\",\n        \"description\": \"\"\n      }\n    }\n  ]\n}"
            }
          },
          "metadata": {},
          "execution_count": 147
        }
      ]
    },
    {
      "cell_type": "code",
      "source": [
        "print(df.describe())"
      ],
      "metadata": {
        "colab": {
          "base_uri": "https://localhost:8080/"
        },
        "id": "NlGHDs-QXEl3",
        "outputId": "9e008611-8c21-41f1-cb4a-43d20f314569"
      },
      "execution_count": 148,
      "outputs": [
        {
          "output_type": "stream",
          "name": "stdout",
          "text": [
            "                ID     No_Pation      Gender          AGE         Urea  \\\n",
            "count  1000.000000  1.000000e+03  999.000000  1000.000000  1000.000000   \n",
            "mean    340.500000  2.705514e+05    0.434434    53.528000     5.124743   \n",
            "std     240.397673  3.380758e+06    0.495931     8.799241     2.935165   \n",
            "min       1.000000  1.230000e+02    0.000000    20.000000     0.500000   \n",
            "25%     125.750000  2.406375e+04    0.000000    51.000000     3.700000   \n",
            "50%     300.500000  3.439550e+04    0.000000    55.000000     4.600000   \n",
            "75%     550.250000  4.538425e+04    1.000000    59.000000     5.700000   \n",
            "max     800.000000  7.543566e+07    1.000000    79.000000    38.900000   \n",
            "\n",
            "                Cr        HbA1c         Chol           TG          HDL  \\\n",
            "count  1000.000000  1000.000000  1000.000000  1000.000000  1000.000000   \n",
            "mean     68.943000     8.281160     4.862820     2.349610     1.204750   \n",
            "std      59.984747     2.534003     1.301738     1.401176     0.660414   \n",
            "min       6.000000     0.900000     0.000000     0.300000     0.200000   \n",
            "25%      48.000000     6.500000     4.000000     1.500000     0.900000   \n",
            "50%      60.000000     8.000000     4.800000     2.000000     1.100000   \n",
            "75%      73.000000    10.200000     5.600000     2.900000     1.300000   \n",
            "max     800.000000    16.000000    10.300000    13.800000     9.900000   \n",
            "\n",
            "               LDL         VLDL          BMI       CLASS  \n",
            "count  1000.000000  1000.000000  1000.000000  155.000000  \n",
            "mean      2.609790     1.854700    29.578020    0.341935  \n",
            "std       1.115102     3.663599     4.962388    0.475896  \n",
            "min       0.300000     0.100000    19.000000    0.000000  \n",
            "25%       1.800000     0.700000    26.000000    0.000000  \n",
            "50%       2.500000     0.900000    30.000000    0.000000  \n",
            "75%       3.300000     1.500000    33.000000    1.000000  \n",
            "max       9.900000    35.000000    47.750000    1.000000  \n"
          ]
        }
      ]
    },
    {
      "cell_type": "markdown",
      "source": [
        "###Verificando Balanceamento do DF"
      ],
      "metadata": {
        "id": "5l5SkFVvXJrf"
      }
    },
    {
      "cell_type": "code",
      "source": [
        "df[\"CLASS\"].value_counts(normalize=True).plot(kind='bar', title=\"Distribuição da Classe\", xlabel=\"Classe\", ylabel=\"Proporção\")"
      ],
      "metadata": {
        "colab": {
          "base_uri": "https://localhost:8080/",
          "height": 498
        },
        "id": "FXOyfwKPXNre",
        "outputId": "6493197a-3b74-477d-d264-d5995ac7ee03"
      },
      "execution_count": 149,
      "outputs": [
        {
          "output_type": "execute_result",
          "data": {
            "text/plain": [
              "<Axes: title={'center': 'Distribuição da Classe'}, xlabel='Classe', ylabel='Proporção'>"
            ]
          },
          "metadata": {},
          "execution_count": 149
        },
        {
          "output_type": "display_data",
          "data": {
            "text/plain": [
              "<Figure size 640x480 with 1 Axes>"
            ],
            "image/png": "[encoded data removed]"
          },
          "metadata": {}
        }
      ]
    },
    {
      "cell_type": "markdown",
      "source": [
        "##Escolha dos Dados\n",
        "<p>Utilizando a correlação de Pearson para escolher os dados relevantes para a classificação"
      ],
      "metadata": {
        "id": "UR_PGkr0X1A6"
      }
    },
    {
      "cell_type": "code",
      "source": [
        "# Correlação com a classe\n",
        "print(corr[\"CLASS\"].sort_values(ascending=False))"
      ],
      "metadata": {
        "colab": {
          "base_uri": "https://localhost:8080/"
        },
        "id": "HBOXbXzkXsfI",
        "outputId": "e3f0793c-1deb-4db0-e001-54a33cba07fa"
      },
      "execution_count": 150,
      "outputs": [
        {
          "output_type": "stream",
          "name": "stdout",
          "text": [
            "CLASS        1.000000\n",
            "HbA1c        0.674914\n",
            "BMI          0.360858\n",
            "TG           0.224478\n",
            "Chol         0.122636\n",
            "ID           0.051854\n",
            "Cr           0.048171\n",
            "VLDL         0.014595\n",
            "Urea        -0.031320\n",
            "AGE         -0.054111\n",
            "No_Pation   -0.059678\n",
            "LDL         -0.065415\n",
            "HDL         -0.103024\n",
            "Gender      -0.291265\n",
            "Name: CLASS, dtype: float64\n"
          ]
        }
      ]
    },
    {
      "cell_type": "markdown",
      "source": [
        "##Classes selecionadas:\n"
      ],
      "metadata": {
        "id": "a9TeUJ0dYMwD"
      }
    },
    {
      "cell_type": "markdown",
      "source": [
        "Baseado na correleção de pearson, optou-se por HbA1c (0.674914) e BMI (0.360858), por serem classes mais fortemente relacionadas."
      ],
      "metadata": {
        "id": "AlT7oeZqYgzw"
      }
    },
    {
      "cell_type": "code",
      "source": [
        "from sklearn.utils import resample\n",
        "\n",
        "df_majority = df[df.CLASS == 0]\n",
        "df_minority = df[df.CLASS == 1]\n",
        "\n",
        "# Fazer downsample da classe majoritária para o tamanho da minoritária\n",
        "df_majority_downsampled = resample(df_majority,\n",
        "                                   replace=False,\n",
        "                                   n_samples=len(df_minority),\n",
        "                                   random_state=42)\n",
        "\n",
        "# Combinar os dados balanceados\n",
        "df_balanced = pd.concat([df_majority_downsampled, df_minority]).sample(frac=1, random_state=42)\n",
        "\n",
        "# Selecionar features relevantes\n",
        "features = [\"HbA1c\", \"BMI\", \"TG\", \"Chol\"]\n",
        "X = df_balanced[features].values.T\n",
        "y = df_balanced[\"CLASS\"].values.astype(int)"
      ],
      "metadata": {
        "id": "Ajpq3NyHYuwB"
      },
      "execution_count": 151,
      "outputs": []
    },
    {
      "cell_type": "markdown",
      "source": [
        "\n",
        "## --- Separar treino (60%), validação (20%) e teste (20%) ---\n",
        "<p>Como sklearn separa por linha, precisamos fazer um \"transpose\" para facilitar"
      ],
      "metadata": {
        "id": "Z0gJiBe9ecWp"
      }
    },
    {
      "cell_type": "code",
      "source": [
        "from sklearn.model_selection import train_test_split\n",
        "\n",
        "X_t = X.T  # (amostras x features)\n",
        "\n",
        "X_temp, X_test, y_temp, y_test = train_test_split(X_t, y, test_size=0.2, random_state=42, stratify=y)\n",
        "X_train, X_val, y_train, y_val = train_test_split(X_temp, y_temp, test_size=0.25, random_state=42, stratify=y_temp)\n",
        "# 0.25 * 0.8 = 0.2 (20% validação)\n",
        "\n",
        "# Transpor para (features x amostras)\n",
        "X_train = X_train.T\n",
        "X_val = X_val.T\n",
        "X_test = X_test.T\n",
        "\n",
        "# --- Normalizar usando só dados de treino ---\n",
        "mean_train = X_train.mean(axis=1, keepdims=True)\n",
        "std_train = X_train.std(axis=1, keepdims=True)\n",
        "\n",
        "X_train_norm = (X_train - mean_train) / std_train\n",
        "X_val_norm = (X_val - mean_train) / std_train\n",
        "X_test_norm = (X_test - mean_train) / std_train\n"
      ],
      "metadata": {
        "id": "vGtgPLSQeajd"
      },
      "execution_count": 152,
      "outputs": []
    },
    {
      "cell_type": "markdown",
      "source": [
        "##Configurando Bias"
      ],
      "metadata": {
        "id": "CxNSG7HGY4e3"
      }
    },
    {
      "cell_type": "code",
      "source": [
        "def add_bias(X):\n",
        "    bias = np.ones((1, X.shape[1]))\n",
        "    return np.vstack([bias, X])\n",
        "\n",
        "X_train_bias = add_bias(X_train_norm)\n",
        "X_val_bias = add_bias(X_val_norm)\n",
        "X_test_bias = add_bias(X_test_norm)"
      ],
      "metadata": {
        "id": "_mX9btBrY6cd"
      },
      "execution_count": 153,
      "outputs": []
    },
    {
      "cell_type": "markdown",
      "source": [
        "##Treinamento"
      ],
      "metadata": {
        "id": "2Qh3yHAHY65i"
      }
    },
    {
      "cell_type": "code",
      "source": [
        "import numpy as np\n",
        "\n",
        "def treinar_perceptron(x, y, w_inicial, eta=0.1, max_iter=1000):\n",
        "    \"\"\"\n",
        "    Treina um perceptron simples.\n",
        "\n",
        "    Parâmetros:\n",
        "        x (ndarray): Matriz de entrada (shape: 3 x N).\n",
        "        y (ndarray): Vetor de saídas esperadas (shape: N).\n",
        "        w_inicial (ndarray): Pesos iniciais (shape: 3 x 1).\n",
        "        eta (float): Taxa de aprendizado.\n",
        "        max_iter (int): Número máximo de iterações para evitar loops infinitos.\n",
        "\n",
        "    Retorna:\n",
        "        w (ndarray): Pesos finais treinados.\n",
        "        cont (int): Número de atualizações realizadas.\n",
        "    \"\"\"\n",
        "    w = w_inicial.copy()\n",
        "    e = np.ones(len(y))\n",
        "    cont = 0\n",
        "    iteracoes = 0\n",
        "\n",
        "    while np.any(e) and iteracoes < max_iter:\n",
        "        for i in range(len(y)):\n",
        "            u = np.dot(x[:, i], w)\n",
        "            f = ((np.sign(u) + 1) / 2).item()  # garante que f é escalar\n",
        "            e[i] = y[i] - f\n",
        "            w += eta * e[i] * x[:, i].reshape(-1, 1)\n",
        "            cont += 1\n",
        "        iteracoes += 1\n",
        "\n",
        "    return w, cont\n"
      ],
      "metadata": {
        "id": "Zy3IEDDfOZDA"
      },
      "execution_count": 154,
      "outputs": []
    },
    {
      "cell_type": "code",
      "source": [
        "w_inicial = np.zeros((X_train_bias.shape[0], 1))\n",
        "w_final, atualizacoes = treinar_perceptron(X_train_bias, y_train, w_inicial, eta=0.01, max_iter=5000)\n"
      ],
      "metadata": {
        "id": "6XIuU7BVY9Zd"
      },
      "execution_count": 155,
      "outputs": []
    },
    {
      "cell_type": "markdown",
      "source": [
        "#Analisando resultados"
      ],
      "metadata": {
        "id": "geoFV7BCZb1Z"
      }
    },
    {
      "cell_type": "code",
      "source": [
        "def prever(x, w):\n",
        "    \"\"\"\n",
        "    Realiza a predição dos dados de entrada usando os pesos treinados.\n",
        "\n",
        "    Parâmetros:\n",
        "        x (ndarray): Matriz de entrada (shape: 3 x N).\n",
        "        w (ndarray): Vetor de pesos treinado (shape: 3 x 1).\n",
        "\n",
        "    Retorna:\n",
        "        y_pred (ndarray): Vetor de predições (0 ou 1).\n",
        "    \"\"\"\n",
        "    u = np.dot(w.T, x)\n",
        "    u = np.nan_to_num(u)  # Tratamento de NaNs\n",
        "    y_pred = ((np.sign(u) + 1) / 2).astype(int).flatten()\n",
        "    return y_pred"
      ],
      "metadata": {
        "id": "mw01eGlUY-p8"
      },
      "execution_count": 156,
      "outputs": []
    },
    {
      "cell_type": "code",
      "source": [
        "y_val_pred = prever(X_val_bias, w_final)\n",
        "print(\"Validação - Acurácia:\", accuracy_score(y_val, y_val_pred) * 100)\n",
        "print(classification_report(y_val, y_val_pred))"
      ],
      "metadata": {
        "colab": {
          "base_uri": "https://localhost:8080/"
        },
        "id": "KdW1an3WZnFq",
        "outputId": "711259e9-e65e-4abc-d42b-24dcde94457b"
      },
      "execution_count": 157,
      "outputs": [
        {
          "output_type": "stream",
          "name": "stdout",
          "text": [
            "Validação - Acurácia: 100.0\n",
            "              precision    recall  f1-score   support\n",
            "\n",
            "           0       1.00      1.00      1.00        11\n",
            "           1       1.00      1.00      1.00        10\n",
            "\n",
            "    accuracy                           1.00        21\n",
            "   macro avg       1.00      1.00      1.00        21\n",
            "weighted avg       1.00      1.00      1.00        21\n",
            "\n"
          ]
        }
      ]
    },
    {
      "cell_type": "markdown",
      "source": [
        "#Avaliação do Resultado de 100%\n"
      ],
      "metadata": {
        "id": "gFSWyxbkhnLn"
      }
    },
    {
      "cell_type": "code",
      "source": [
        "# 1. Seleção das features 2D\n",
        "features_2d = [\"HbA1c\", \"BMI\"]\n",
        "df_2d = df_balanced[features_2d + [\"CLASS\"]].copy()\n",
        "\n",
        "# 2. Remoção de outliers (±3 desvios padrão por coluna)\n",
        "for col in features_2d:\n",
        "    mean = df_2d[col].mean()\n",
        "    std = df_2d[col].std()\n",
        "    df_2d = df_2d[(df_2d[col] >= mean - 3*std) & (df_2d[col] <= mean + 3*std)]\n",
        "\n",
        "# 3. Extração e normalização dos dados\n",
        "X_2d = df_2d[features_2d].values.T\n",
        "y_2d = df_2d[\"CLASS\"].values.astype(int)\n",
        "\n",
        "mean_2d = X_2d.mean(axis=1, keepdims=True)\n",
        "std_2d = X_2d.std(axis=1, keepdims=True)\n",
        "X_2d_norm = (X_2d - mean_2d) / std_2d\n",
        "\n",
        "\n",
        "X_2d_bias = add_bias(X_2d_norm)\n",
        "\n",
        "# 4. Treinar perceptron com 2D\n",
        "w_ini_2d = np.zeros((X_2d_bias.shape[0], 1))\n",
        "w_2d, _ = treinar_perceptron(X_2d_bias, y_2d, w_ini_2d, eta=0.01, max_iter=5000)\n",
        "\n",
        "# 5. Plotar gráfico com fronteira de decisão\n",
        "import matplotlib.pyplot as plt\n",
        "\n",
        "# Dados normalizados para plotagem\n",
        "HbA1c = X_2d_norm[0, :]\n",
        "BMI = X_2d_norm[1, :]\n",
        "labels = y_2d\n",
        "\n",
        "plt.figure(figsize=(8, 6))\n",
        "scatter = plt.scatter(HbA1c, BMI, c=labels, cmap='bwr', alpha=0.7, edgecolors='k')\n",
        "plt.xlabel(\"HbA1c (normalizado)\")\n",
        "plt.ylabel(\"BMI (normalizado)\")\n",
        "plt.title(\"Fronteira de Decisão do Perceptron (HbA1c vs BMI)\")\n",
        "\n",
        "# Fronteira de decisão: w0*1 + w1*x + w2*y = 0 → y = -(w0 + w1*x) / w2\n",
        "x_vals = np.linspace(HbA1c.min(), HbA1c.max(), 100)\n",
        "w0, w1, w2 = w_2d.flatten()\n",
        "y_vals = -(w0 + w1 * x_vals) / w2\n",
        "plt.plot(x_vals, y_vals, color='green', label='Fronteira de decisão')\n",
        "\n",
        "plt.legend()\n",
        "plt.grid(True)\n",
        "plt.tight_layout()\n",
        "plt.show()"
      ],
      "metadata": {
        "colab": {
          "base_uri": "https://localhost:8080/",
          "height": 607
        },
        "id": "12gqZVlKgy30",
        "outputId": "a243565a-f62b-4dc3-f91f-9a7d9ae53fdf"
      },
      "execution_count": 160,
      "outputs": [
        {
          "output_type": "display_data",
          "data": {
            "text/plain": [
              "<Figure size 800x600 with 1 Axes>"
            ],
            "image/png": "[encoded data removed]"
          },
          "metadata": {}
        }
      ]
    },
    {
      "cell_type": "markdown",
      "source": [
        "Ao observa-se a fronteira de decisão precisa é possível concluir que é possível para esse caso um resultado de 100%"
      ],
      "metadata": {
        "id": "FSNX-jfshqpn"
      }
    }
  ]
}